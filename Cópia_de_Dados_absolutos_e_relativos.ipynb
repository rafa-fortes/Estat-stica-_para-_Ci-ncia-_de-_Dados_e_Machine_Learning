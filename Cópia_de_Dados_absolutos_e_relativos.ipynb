{
  "nbformat": 4,
  "nbformat_minor": 0,
  "metadata": {
    "colab": {
      "name": "Cópia de Dados absolutos e relativos.ipynb",
      "provenance": [],
      "collapsed_sections": []
    },
    "kernelspec": {
      "name": "python3",
      "display_name": "Python 3"
    }
  },
  "cells": [
    {
      "cell_type": "markdown",
      "metadata": {
        "id": "bZR6mEVWATfV"
      },
      "source": [
        "# Dados absolutos e relativos"
      ]
    },
    {
      "cell_type": "code",
      "metadata": {
        "id": "X-IfpavUy8uv"
      },
      "source": [
        "import pandas as pd"
      ],
      "execution_count": 1,
      "outputs": []
    },
    {
      "cell_type": "markdown",
      "metadata": {
        "id": "ru2T1KWJAWMC"
      },
      "source": [
        "## Percentuais"
      ]
    },
    {
      "cell_type": "code",
      "metadata": {
        "id": "V0_QuqxDzB0W"
      },
      "source": [
        "dados = {'emprego':['Adminstrador_banco_dados', 'Programador', 'Arquiteto_redes'],\n",
        "         'nova_jersey': [97350, 82080, 112840],\n",
        "         'florida': [77140, 71540, 62310]}"
      ],
      "execution_count": 2,
      "outputs": []
    },
    {
      "cell_type": "code",
      "metadata": {
        "id": "YhjivyKSzdb4",
        "colab": {
          "base_uri": "https://localhost:8080/"
        },
        "outputId": "540e8799-29e6-4c1e-ca54-8d4aa4f44419"
      },
      "source": [
        "type(dados)"
      ],
      "execution_count": 3,
      "outputs": [
        {
          "output_type": "execute_result",
          "data": {
            "text/plain": [
              "dict"
            ]
          },
          "metadata": {
            "tags": []
          },
          "execution_count": 3
        }
      ]
    },
    {
      "cell_type": "code",
      "metadata": {
        "id": "j-X2IqxWziPB",
        "colab": {
          "base_uri": "https://localhost:8080/"
        },
        "outputId": "36838b42-fe3d-4827-b3f2-54e5eaecc0e7"
      },
      "source": [
        "dados"
      ],
      "execution_count": 4,
      "outputs": [
        {
          "output_type": "execute_result",
          "data": {
            "text/plain": [
              "{'emprego': ['Adminstrador_banco_dados', 'Programador', 'Arquiteto_redes'],\n",
              " 'florida': [77140, 71540, 62310],\n",
              " 'nova_jersey': [97350, 82080, 112840]}"
            ]
          },
          "metadata": {
            "tags": []
          },
          "execution_count": 4
        }
      ]
    },
    {
      "cell_type": "code",
      "metadata": {
        "id": "jV0bbjRdzlRD"
      },
      "source": [
        "dataset = pd.DataFrame(dados)"
      ],
      "execution_count": 5,
      "outputs": []
    },
    {
      "cell_type": "code",
      "metadata": {
        "id": "5zEj9ru8zqM7",
        "colab": {
          "base_uri": "https://localhost:8080/",
          "height": 142
        },
        "outputId": "dbc190f1-ae27-48f5-c9cd-b04678efba54"
      },
      "source": [
        "dataset"
      ],
      "execution_count": 6,
      "outputs": [
        {
          "output_type": "execute_result",
          "data": {
            "text/html": [
              "<div>\n",
              "<style scoped>\n",
              "    .dataframe tbody tr th:only-of-type {\n",
              "        vertical-align: middle;\n",
              "    }\n",
              "\n",
              "    .dataframe tbody tr th {\n",
              "        vertical-align: top;\n",
              "    }\n",
              "\n",
              "    .dataframe thead th {\n",
              "        text-align: right;\n",
              "    }\n",
              "</style>\n",
              "<table border=\"1\" class=\"dataframe\">\n",
              "  <thead>\n",
              "    <tr style=\"text-align: right;\">\n",
              "      <th></th>\n",
              "      <th>emprego</th>\n",
              "      <th>nova_jersey</th>\n",
              "      <th>florida</th>\n",
              "    </tr>\n",
              "  </thead>\n",
              "  <tbody>\n",
              "    <tr>\n",
              "      <th>0</th>\n",
              "      <td>Adminstrador_banco_dados</td>\n",
              "      <td>97350</td>\n",
              "      <td>77140</td>\n",
              "    </tr>\n",
              "    <tr>\n",
              "      <th>1</th>\n",
              "      <td>Programador</td>\n",
              "      <td>82080</td>\n",
              "      <td>71540</td>\n",
              "    </tr>\n",
              "    <tr>\n",
              "      <th>2</th>\n",
              "      <td>Arquiteto_redes</td>\n",
              "      <td>112840</td>\n",
              "      <td>62310</td>\n",
              "    </tr>\n",
              "  </tbody>\n",
              "</table>\n",
              "</div>"
            ],
            "text/plain": [
              "                    emprego  nova_jersey  florida\n",
              "0  Adminstrador_banco_dados        97350    77140\n",
              "1               Programador        82080    71540\n",
              "2           Arquiteto_redes       112840    62310"
            ]
          },
          "metadata": {
            "tags": []
          },
          "execution_count": 6
        }
      ]
    },
    {
      "cell_type": "code",
      "metadata": {
        "id": "sDgYTLlMzyQm",
        "colab": {
          "base_uri": "https://localhost:8080/"
        },
        "outputId": "96f958b0-be46-4ee2-f93f-a86c7116c226"
      },
      "source": [
        "dataset['nova_jersey'].sum()"
      ],
      "execution_count": 7,
      "outputs": [
        {
          "output_type": "execute_result",
          "data": {
            "text/plain": [
              "292270"
            ]
          },
          "metadata": {
            "tags": []
          },
          "execution_count": 7
        }
      ]
    },
    {
      "cell_type": "code",
      "metadata": {
        "colab": {
          "base_uri": "https://localhost:8080/"
        },
        "id": "bt9WDmydPwkv",
        "outputId": "fea6bd18-40c8-48dc-9b17-a6bcf29d9f4e"
      },
      "source": [
        "dataset['florida'].sum()"
      ],
      "execution_count": 8,
      "outputs": [
        {
          "output_type": "execute_result",
          "data": {
            "text/plain": [
              "210990"
            ]
          },
          "metadata": {
            "tags": []
          },
          "execution_count": 8
        }
      ]
    },
    {
      "cell_type": "code",
      "metadata": {
        "id": "hvP4ywLYz3XV"
      },
      "source": [
        "#criando uma nova coluna | aqui temos a parte | dividindo |  pelo todo            | multiplicando por 100 para termos o valor em porcentagem\n",
        "dataset['%_nova_jersey'] = (dataset['nova_jersey'] / dataset['nova_jersey'].sum()) * 100 "
      ],
      "execution_count": 9,
      "outputs": []
    },
    {
      "cell_type": "code",
      "metadata": {
        "id": "Klb0tBU0z9hg",
        "colab": {
          "base_uri": "https://localhost:8080/",
          "height": 142
        },
        "outputId": "25c5a4fb-0ed3-4585-855b-4bee0f44ffef"
      },
      "source": [
        "dataset"
      ],
      "execution_count": 10,
      "outputs": [
        {
          "output_type": "execute_result",
          "data": {
            "text/html": [
              "<div>\n",
              "<style scoped>\n",
              "    .dataframe tbody tr th:only-of-type {\n",
              "        vertical-align: middle;\n",
              "    }\n",
              "\n",
              "    .dataframe tbody tr th {\n",
              "        vertical-align: top;\n",
              "    }\n",
              "\n",
              "    .dataframe thead th {\n",
              "        text-align: right;\n",
              "    }\n",
              "</style>\n",
              "<table border=\"1\" class=\"dataframe\">\n",
              "  <thead>\n",
              "    <tr style=\"text-align: right;\">\n",
              "      <th></th>\n",
              "      <th>emprego</th>\n",
              "      <th>nova_jersey</th>\n",
              "      <th>florida</th>\n",
              "      <th>%_nova_jersey</th>\n",
              "    </tr>\n",
              "  </thead>\n",
              "  <tbody>\n",
              "    <tr>\n",
              "      <th>0</th>\n",
              "      <td>Adminstrador_banco_dados</td>\n",
              "      <td>97350</td>\n",
              "      <td>77140</td>\n",
              "      <td>33.308242</td>\n",
              "    </tr>\n",
              "    <tr>\n",
              "      <th>1</th>\n",
              "      <td>Programador</td>\n",
              "      <td>82080</td>\n",
              "      <td>71540</td>\n",
              "      <td>28.083621</td>\n",
              "    </tr>\n",
              "    <tr>\n",
              "      <th>2</th>\n",
              "      <td>Arquiteto_redes</td>\n",
              "      <td>112840</td>\n",
              "      <td>62310</td>\n",
              "      <td>38.608136</td>\n",
              "    </tr>\n",
              "  </tbody>\n",
              "</table>\n",
              "</div>"
            ],
            "text/plain": [
              "                    emprego  nova_jersey  florida  %_nova_jersey\n",
              "0  Adminstrador_banco_dados        97350    77140      33.308242\n",
              "1               Programador        82080    71540      28.083621\n",
              "2           Arquiteto_redes       112840    62310      38.608136"
            ]
          },
          "metadata": {
            "tags": []
          },
          "execution_count": 10
        }
      ]
    },
    {
      "cell_type": "code",
      "metadata": {
        "id": "uIs_b7uY0OCS"
      },
      "source": [
        "dataset['%_florida'] = (dataset['florida'] / dataset['florida'].sum()) * 100"
      ],
      "execution_count": 11,
      "outputs": []
    },
    {
      "cell_type": "code",
      "metadata": {
        "id": "G4UBqpJM0SWS",
        "colab": {
          "base_uri": "https://localhost:8080/",
          "height": 142
        },
        "outputId": "ea5ebeae-2cb0-4713-bed2-8c246acbb1a5"
      },
      "source": [
        "dataset"
      ],
      "execution_count": 14,
      "outputs": [
        {
          "output_type": "execute_result",
          "data": {
            "text/html": [
              "<div>\n",
              "<style scoped>\n",
              "    .dataframe tbody tr th:only-of-type {\n",
              "        vertical-align: middle;\n",
              "    }\n",
              "\n",
              "    .dataframe tbody tr th {\n",
              "        vertical-align: top;\n",
              "    }\n",
              "\n",
              "    .dataframe thead th {\n",
              "        text-align: right;\n",
              "    }\n",
              "</style>\n",
              "<table border=\"1\" class=\"dataframe\">\n",
              "  <thead>\n",
              "    <tr style=\"text-align: right;\">\n",
              "      <th></th>\n",
              "      <th>emprego</th>\n",
              "      <th>nova_jersey</th>\n",
              "      <th>florida</th>\n",
              "      <th>%_nova_jersey</th>\n",
              "      <th>%_florida</th>\n",
              "    </tr>\n",
              "  </thead>\n",
              "  <tbody>\n",
              "    <tr>\n",
              "      <th>0</th>\n",
              "      <td>Adminstrador_banco_dados</td>\n",
              "      <td>97350</td>\n",
              "      <td>77140</td>\n",
              "      <td>33.308242</td>\n",
              "      <td>36.560974</td>\n",
              "    </tr>\n",
              "    <tr>\n",
              "      <th>1</th>\n",
              "      <td>Programador</td>\n",
              "      <td>82080</td>\n",
              "      <td>71540</td>\n",
              "      <td>28.083621</td>\n",
              "      <td>33.906820</td>\n",
              "    </tr>\n",
              "    <tr>\n",
              "      <th>2</th>\n",
              "      <td>Arquiteto_redes</td>\n",
              "      <td>112840</td>\n",
              "      <td>62310</td>\n",
              "      <td>38.608136</td>\n",
              "      <td>29.532205</td>\n",
              "    </tr>\n",
              "  </tbody>\n",
              "</table>\n",
              "</div>"
            ],
            "text/plain": [
              "                    emprego  nova_jersey  florida  %_nova_jersey  %_florida\n",
              "0  Adminstrador_banco_dados        97350    77140      33.308242  36.560974\n",
              "1               Programador        82080    71540      28.083621  33.906820\n",
              "2           Arquiteto_redes       112840    62310      38.608136  29.532205"
            ]
          },
          "metadata": {
            "tags": []
          },
          "execution_count": 14
        }
      ]
    },
    {
      "cell_type": "code",
      "metadata": {
        "id": "iMXYeoms0Z1h"
      },
      "source": [
        ""
      ],
      "execution_count": null,
      "outputs": []
    },
    {
      "cell_type": "markdown",
      "metadata": {
        "id": "V83Bw-1BLcfA"
      },
      "source": [
        "## Exercício percentuais"
      ]
    },
    {
      "cell_type": "code",
      "metadata": {
        "id": "xInyjWD704re"
      },
      "source": [
        "dataset = pd.read_csv('/content/sample_data/census.csv')"
      ],
      "execution_count": 16,
      "outputs": []
    },
    {
      "cell_type": "code",
      "metadata": {
        "id": "npqJEOwZ06KW",
        "colab": {
          "base_uri": "https://localhost:8080/",
          "height": 306
        },
        "outputId": "e4359328-adc6-49e5-b467-f0370593506e"
      },
      "source": [
        "dataset.head()"
      ],
      "execution_count": 18,
      "outputs": [
        {
          "output_type": "execute_result",
          "data": {
            "text/html": [
              "<div>\n",
              "<style scoped>\n",
              "    .dataframe tbody tr th:only-of-type {\n",
              "        vertical-align: middle;\n",
              "    }\n",
              "\n",
              "    .dataframe tbody tr th {\n",
              "        vertical-align: top;\n",
              "    }\n",
              "\n",
              "    .dataframe thead th {\n",
              "        text-align: right;\n",
              "    }\n",
              "</style>\n",
              "<table border=\"1\" class=\"dataframe\">\n",
              "  <thead>\n",
              "    <tr style=\"text-align: right;\">\n",
              "      <th></th>\n",
              "      <th>age</th>\n",
              "      <th>workclass</th>\n",
              "      <th>final-weight</th>\n",
              "      <th>education</th>\n",
              "      <th>education-num</th>\n",
              "      <th>marital-status</th>\n",
              "      <th>occupation</th>\n",
              "      <th>relationship</th>\n",
              "      <th>race</th>\n",
              "      <th>sex</th>\n",
              "      <th>capital-gain</th>\n",
              "      <th>capital-loos</th>\n",
              "      <th>hour-per-week</th>\n",
              "      <th>native-country</th>\n",
              "      <th>income</th>\n",
              "    </tr>\n",
              "  </thead>\n",
              "  <tbody>\n",
              "    <tr>\n",
              "      <th>0</th>\n",
              "      <td>39</td>\n",
              "      <td>State-gov</td>\n",
              "      <td>77516</td>\n",
              "      <td>Bachelors</td>\n",
              "      <td>13</td>\n",
              "      <td>Never-married</td>\n",
              "      <td>Adm-clerical</td>\n",
              "      <td>Not-in-family</td>\n",
              "      <td>White</td>\n",
              "      <td>Male</td>\n",
              "      <td>2174</td>\n",
              "      <td>0</td>\n",
              "      <td>40</td>\n",
              "      <td>United-States</td>\n",
              "      <td>&lt;=50K</td>\n",
              "    </tr>\n",
              "    <tr>\n",
              "      <th>1</th>\n",
              "      <td>50</td>\n",
              "      <td>Self-emp-not-inc</td>\n",
              "      <td>83311</td>\n",
              "      <td>Bachelors</td>\n",
              "      <td>13</td>\n",
              "      <td>Married-civ-spouse</td>\n",
              "      <td>Exec-managerial</td>\n",
              "      <td>Husband</td>\n",
              "      <td>White</td>\n",
              "      <td>Male</td>\n",
              "      <td>0</td>\n",
              "      <td>0</td>\n",
              "      <td>13</td>\n",
              "      <td>United-States</td>\n",
              "      <td>&lt;=50K</td>\n",
              "    </tr>\n",
              "    <tr>\n",
              "      <th>2</th>\n",
              "      <td>38</td>\n",
              "      <td>Private</td>\n",
              "      <td>215646</td>\n",
              "      <td>HS-grad</td>\n",
              "      <td>9</td>\n",
              "      <td>Divorced</td>\n",
              "      <td>Handlers-cleaners</td>\n",
              "      <td>Not-in-family</td>\n",
              "      <td>White</td>\n",
              "      <td>Male</td>\n",
              "      <td>0</td>\n",
              "      <td>0</td>\n",
              "      <td>40</td>\n",
              "      <td>United-States</td>\n",
              "      <td>&lt;=50K</td>\n",
              "    </tr>\n",
              "    <tr>\n",
              "      <th>3</th>\n",
              "      <td>53</td>\n",
              "      <td>Private</td>\n",
              "      <td>234721</td>\n",
              "      <td>11th</td>\n",
              "      <td>7</td>\n",
              "      <td>Married-civ-spouse</td>\n",
              "      <td>Handlers-cleaners</td>\n",
              "      <td>Husband</td>\n",
              "      <td>Black</td>\n",
              "      <td>Male</td>\n",
              "      <td>0</td>\n",
              "      <td>0</td>\n",
              "      <td>40</td>\n",
              "      <td>United-States</td>\n",
              "      <td>&lt;=50K</td>\n",
              "    </tr>\n",
              "    <tr>\n",
              "      <th>4</th>\n",
              "      <td>28</td>\n",
              "      <td>Private</td>\n",
              "      <td>338409</td>\n",
              "      <td>Bachelors</td>\n",
              "      <td>13</td>\n",
              "      <td>Married-civ-spouse</td>\n",
              "      <td>Prof-specialty</td>\n",
              "      <td>Wife</td>\n",
              "      <td>Black</td>\n",
              "      <td>Female</td>\n",
              "      <td>0</td>\n",
              "      <td>0</td>\n",
              "      <td>40</td>\n",
              "      <td>Cuba</td>\n",
              "      <td>&lt;=50K</td>\n",
              "    </tr>\n",
              "  </tbody>\n",
              "</table>\n",
              "</div>"
            ],
            "text/plain": [
              "   age          workclass  final-weight  ... hour-per-week  native-country  income\n",
              "0   39          State-gov         77516  ...            40   United-States   <=50K\n",
              "1   50   Self-emp-not-inc         83311  ...            13   United-States   <=50K\n",
              "2   38            Private        215646  ...            40   United-States   <=50K\n",
              "3   53            Private        234721  ...            40   United-States   <=50K\n",
              "4   28            Private        338409  ...            40            Cuba   <=50K\n",
              "\n",
              "[5 rows x 15 columns]"
            ]
          },
          "metadata": {
            "tags": []
          },
          "execution_count": 18
        }
      ]
    },
    {
      "cell_type": "code",
      "metadata": {
        "id": "qfi-eIS_08Gp"
      },
      "source": [
        "# A ideia é encontrar as porcentagens entre education e income(vms ver se existe uma relação entre elas, se uma pessoa que estuda mais ganha mais)\n",
        "#criando um subdataset\n",
        "dataset2 = dataset[['income', 'education']]"
      ],
      "execution_count": 19,
      "outputs": []
    },
    {
      "cell_type": "code",
      "metadata": {
        "id": "2nduN5sH0-Qc",
        "colab": {
          "base_uri": "https://localhost:8080/",
          "height": 419
        },
        "outputId": "521283bc-1bb4-484f-9a56-ee6c74f3ed94"
      },
      "source": [
        "dataset2"
      ],
      "execution_count": 20,
      "outputs": [
        {
          "output_type": "execute_result",
          "data": {
            "text/html": [
              "<div>\n",
              "<style scoped>\n",
              "    .dataframe tbody tr th:only-of-type {\n",
              "        vertical-align: middle;\n",
              "    }\n",
              "\n",
              "    .dataframe tbody tr th {\n",
              "        vertical-align: top;\n",
              "    }\n",
              "\n",
              "    .dataframe thead th {\n",
              "        text-align: right;\n",
              "    }\n",
              "</style>\n",
              "<table border=\"1\" class=\"dataframe\">\n",
              "  <thead>\n",
              "    <tr style=\"text-align: right;\">\n",
              "      <th></th>\n",
              "      <th>income</th>\n",
              "      <th>education</th>\n",
              "    </tr>\n",
              "  </thead>\n",
              "  <tbody>\n",
              "    <tr>\n",
              "      <th>0</th>\n",
              "      <td>&lt;=50K</td>\n",
              "      <td>Bachelors</td>\n",
              "    </tr>\n",
              "    <tr>\n",
              "      <th>1</th>\n",
              "      <td>&lt;=50K</td>\n",
              "      <td>Bachelors</td>\n",
              "    </tr>\n",
              "    <tr>\n",
              "      <th>2</th>\n",
              "      <td>&lt;=50K</td>\n",
              "      <td>HS-grad</td>\n",
              "    </tr>\n",
              "    <tr>\n",
              "      <th>3</th>\n",
              "      <td>&lt;=50K</td>\n",
              "      <td>11th</td>\n",
              "    </tr>\n",
              "    <tr>\n",
              "      <th>4</th>\n",
              "      <td>&lt;=50K</td>\n",
              "      <td>Bachelors</td>\n",
              "    </tr>\n",
              "    <tr>\n",
              "      <th>...</th>\n",
              "      <td>...</td>\n",
              "      <td>...</td>\n",
              "    </tr>\n",
              "    <tr>\n",
              "      <th>32556</th>\n",
              "      <td>&lt;=50K</td>\n",
              "      <td>Assoc-acdm</td>\n",
              "    </tr>\n",
              "    <tr>\n",
              "      <th>32557</th>\n",
              "      <td>&gt;50K</td>\n",
              "      <td>HS-grad</td>\n",
              "    </tr>\n",
              "    <tr>\n",
              "      <th>32558</th>\n",
              "      <td>&lt;=50K</td>\n",
              "      <td>HS-grad</td>\n",
              "    </tr>\n",
              "    <tr>\n",
              "      <th>32559</th>\n",
              "      <td>&lt;=50K</td>\n",
              "      <td>HS-grad</td>\n",
              "    </tr>\n",
              "    <tr>\n",
              "      <th>32560</th>\n",
              "      <td>&gt;50K</td>\n",
              "      <td>HS-grad</td>\n",
              "    </tr>\n",
              "  </tbody>\n",
              "</table>\n",
              "<p>32561 rows × 2 columns</p>\n",
              "</div>"
            ],
            "text/plain": [
              "       income    education\n",
              "0       <=50K    Bachelors\n",
              "1       <=50K    Bachelors\n",
              "2       <=50K      HS-grad\n",
              "3       <=50K         11th\n",
              "4       <=50K    Bachelors\n",
              "...       ...          ...\n",
              "32556   <=50K   Assoc-acdm\n",
              "32557    >50K      HS-grad\n",
              "32558   <=50K      HS-grad\n",
              "32559   <=50K      HS-grad\n",
              "32560    >50K      HS-grad\n",
              "\n",
              "[32561 rows x 2 columns]"
            ]
          },
          "metadata": {
            "tags": []
          },
          "execution_count": 20
        }
      ]
    },
    {
      "cell_type": "code",
      "metadata": {
        "id": "yTFVXP_c1AKM"
      },
      "source": [
        "#Você pode utilizar o comando groupby do pandas para agrupar os dados, ou seja, a quantidade de registros baseado nesses dois atributos\n",
        "dataset3 = dataset2.groupby(['education', 'income'])['education'].count() #queremos fazer a contagem  da coluna education (para contar a quantidade por nivel de graduação)"
      ],
      "execution_count": 22,
      "outputs": []
    },
    {
      "cell_type": "code",
      "metadata": {
        "id": "aOaZendG1Byn",
        "colab": {
          "base_uri": "https://localhost:8080/"
        },
        "outputId": "a84ff70a-89d6-4db2-80a6-8d5e4852085a"
      },
      "source": [
        "dataset3"
      ],
      "execution_count": 23,
      "outputs": [
        {
          "output_type": "execute_result",
          "data": {
            "text/plain": [
              "education      income\n",
              " 10th           <=50K     871\n",
              "                >50K       62\n",
              " 11th           <=50K    1115\n",
              "                >50K       60\n",
              " 12th           <=50K     400\n",
              "                >50K       33\n",
              " 1st-4th        <=50K     162\n",
              "                >50K        6\n",
              " 5th-6th        <=50K     317\n",
              "                >50K       16\n",
              " 7th-8th        <=50K     606\n",
              "                >50K       40\n",
              " 9th            <=50K     487\n",
              "                >50K       27\n",
              " Assoc-acdm     <=50K     802\n",
              "                >50K      265\n",
              " Assoc-voc      <=50K    1021\n",
              "                >50K      361\n",
              " Bachelors      <=50K    3134\n",
              "                >50K     2221\n",
              " Doctorate      <=50K     107\n",
              "                >50K      306\n",
              " HS-grad        <=50K    8826\n",
              "                >50K     1675\n",
              " Masters        <=50K     764\n",
              "                >50K      959\n",
              " Preschool      <=50K      51\n",
              " Prof-school    <=50K     153\n",
              "                >50K      423\n",
              " Some-college   <=50K    5904\n",
              "                >50K     1387\n",
              "Name: education, dtype: int64"
            ]
          },
          "metadata": {
            "tags": []
          },
          "execution_count": 23
        }
      ]
    },
    {
      "cell_type": "code",
      "metadata": {
        "colab": {
          "base_uri": "https://localhost:8080/"
        },
        "id": "8j_1BWFVWpe4",
        "outputId": "610f277f-15db-43c9-9a5c-204a0e6c56f4"
      },
      "source": [
        "\n",
        "dataset3.index"
      ],
      "execution_count": null,
      "outputs": [
        {
          "output_type": "execute_result",
          "data": {
            "text/plain": [
              "MultiIndex([(' <=50K',         ' 10th'),\n",
              "            (' <=50K',         ' 11th'),\n",
              "            (' <=50K',         ' 12th'),\n",
              "            (' <=50K',      ' 1st-4th'),\n",
              "            (' <=50K',      ' 5th-6th'),\n",
              "            (' <=50K',      ' 7th-8th'),\n",
              "            (' <=50K',          ' 9th'),\n",
              "            (' <=50K',   ' Assoc-acdm'),\n",
              "            (' <=50K',    ' Assoc-voc'),\n",
              "            (' <=50K',    ' Bachelors'),\n",
              "            (' <=50K',    ' Doctorate'),\n",
              "            (' <=50K',      ' HS-grad'),\n",
              "            (' <=50K',      ' Masters'),\n",
              "            (' <=50K',    ' Preschool'),\n",
              "            (' <=50K',  ' Prof-school'),\n",
              "            (' <=50K', ' Some-college'),\n",
              "            ( ' >50K',         ' 10th'),\n",
              "            ( ' >50K',         ' 11th'),\n",
              "            ( ' >50K',         ' 12th'),\n",
              "            ( ' >50K',      ' 1st-4th'),\n",
              "            ( ' >50K',      ' 5th-6th'),\n",
              "            ( ' >50K',      ' 7th-8th'),\n",
              "            ( ' >50K',          ' 9th'),\n",
              "            ( ' >50K',   ' Assoc-acdm'),\n",
              "            ( ' >50K',    ' Assoc-voc'),\n",
              "            ( ' >50K',    ' Bachelors'),\n",
              "            ( ' >50K',    ' Doctorate'),\n",
              "            ( ' >50K',      ' HS-grad'),\n",
              "            ( ' >50K',      ' Masters'),\n",
              "            ( ' >50K',  ' Prof-school'),\n",
              "            ( ' >50K', ' Some-college')],\n",
              "           names=['income', 'education'])"
            ]
          },
          "metadata": {
            "tags": []
          },
          "execution_count": 21
        }
      ]
    },
    {
      "cell_type": "code",
      "metadata": {
        "id": "RMnO3PZs1Eub",
        "colab": {
          "base_uri": "https://localhost:8080/"
        },
        "outputId": "299733a8-8abb-47b9-dd65-0940be79dfcd"
      },
      "source": [
        "dataset3[' Bachelors', ' <=50K'], dataset3[' Bachelors', ' >50K']"
      ],
      "execution_count": null,
      "outputs": [
        {
          "output_type": "execute_result",
          "data": {
            "text/plain": [
              "(3134, 2221)"
            ]
          },
          "metadata": {
            "tags": []
          },
          "execution_count": 30
        }
      ]
    },
    {
      "cell_type": "code",
      "metadata": {
        "id": "pRBEOTtO1Khr",
        "colab": {
          "base_uri": "https://localhost:8080/"
        },
        "outputId": "3854a1eb-4137-4cab-caea-e4e9b4d20e06"
      },
      "source": [
        "3134 + 2221"
      ],
      "execution_count": null,
      "outputs": [
        {
          "output_type": "execute_result",
          "data": {
            "text/plain": [
              "5355"
            ]
          },
          "metadata": {
            "tags": []
          },
          "execution_count": 26
        }
      ]
    },
    {
      "cell_type": "code",
      "metadata": {
        "id": "OxncF7dU1MYv",
        "colab": {
          "base_uri": "https://localhost:8080/"
        },
        "outputId": "bc2d3348-651d-44f6-a9a3-2ac041ac9813"
      },
      "source": [
        "# % >50K\n",
        "(2221 / 5355) * 100"
      ],
      "execution_count": null,
      "outputs": [
        {
          "output_type": "execute_result",
          "data": {
            "text/plain": [
              "41.47525676937442"
            ]
          },
          "metadata": {
            "tags": []
          },
          "execution_count": 27
        }
      ]
    },
    {
      "cell_type": "code",
      "metadata": {
        "id": "JIiOnJgn1OFW",
        "colab": {
          "base_uri": "https://localhost:8080/"
        },
        "outputId": "4f3721c8-33f2-48df-d275-b9b6df68fbd3"
      },
      "source": [
        "# % <=50K\n",
        "(3134 / 5355) * 100"
      ],
      "execution_count": null,
      "outputs": [
        {
          "output_type": "execute_result",
          "data": {
            "text/plain": [
              "58.52474323062559"
            ]
          },
          "metadata": {
            "tags": []
          },
          "execution_count": 28
        }
      ]
    },
    {
      "cell_type": "markdown",
      "metadata": {
        "id": "jmQedGNJcXXJ"
      },
      "source": [
        "## Exercício coeficientes e taxas"
      ]
    },
    {
      "cell_type": "code",
      "metadata": {
        "id": "eVe4263wCftm"
      },
      "source": [
        "### O objetivo deste exercício é calcular o coeficiente e a taxa de evasão utilizando a tabela abaixo. Faça os cálculos manuais e depois implemente em Python"
      ],
      "execution_count": 24,
      "outputs": []
    },
    {
      "cell_type": "code",
      "metadata": {
        "id": "IPiox-R3Dsz7"
      },
      "source": [
        "dados = {'ano': ['1', '2', '3', '4'],\n",
        "          'Matrículas_março': [70, 50, 47, 23],\n",
        "          'Matrículas_novembro': [65, 48, 40, 22]}"
      ],
      "execution_count": 36,
      "outputs": []
    },
    {
      "cell_type": "code",
      "metadata": {
        "id": "p-Nlh9pL5t7u",
        "colab": {
          "base_uri": "https://localhost:8080/"
        },
        "outputId": "4f475fdb-f900-4456-c8c6-3bbf2c0f2315"
      },
      "source": [
        "dados"
      ],
      "execution_count": 37,
      "outputs": [
        {
          "output_type": "execute_result",
          "data": {
            "text/plain": [
              "{'Matrículas_março': [70, 50, 47, 23],\n",
              " 'Matrículas_novembro': [65, 48, 40, 22],\n",
              " 'ano': ['1', '2', '3', '4']}"
            ]
          },
          "metadata": {
            "tags": []
          },
          "execution_count": 37
        }
      ]
    },
    {
      "cell_type": "code",
      "metadata": {
        "id": "3ag6dFTGEp-C"
      },
      "source": [
        "dataset = pd.DataFrame(dados)"
      ],
      "execution_count": 38,
      "outputs": []
    },
    {
      "cell_type": "code",
      "metadata": {
        "colab": {
          "base_uri": "https://localhost:8080/",
          "height": 173
        },
        "id": "7hgPGg4Zyu1C",
        "outputId": "fee040c7-f611-4e9e-cd4d-ba1ff20b8055"
      },
      "source": [
        "dataset"
      ],
      "execution_count": 39,
      "outputs": [
        {
          "output_type": "execute_result",
          "data": {
            "text/html": [
              "<div>\n",
              "<style scoped>\n",
              "    .dataframe tbody tr th:only-of-type {\n",
              "        vertical-align: middle;\n",
              "    }\n",
              "\n",
              "    .dataframe tbody tr th {\n",
              "        vertical-align: top;\n",
              "    }\n",
              "\n",
              "    .dataframe thead th {\n",
              "        text-align: right;\n",
              "    }\n",
              "</style>\n",
              "<table border=\"1\" class=\"dataframe\">\n",
              "  <thead>\n",
              "    <tr style=\"text-align: right;\">\n",
              "      <th></th>\n",
              "      <th>ano</th>\n",
              "      <th>Matrículas_março</th>\n",
              "      <th>Matrículas_novembro</th>\n",
              "    </tr>\n",
              "  </thead>\n",
              "  <tbody>\n",
              "    <tr>\n",
              "      <th>0</th>\n",
              "      <td>1</td>\n",
              "      <td>70</td>\n",
              "      <td>65</td>\n",
              "    </tr>\n",
              "    <tr>\n",
              "      <th>1</th>\n",
              "      <td>2</td>\n",
              "      <td>50</td>\n",
              "      <td>48</td>\n",
              "    </tr>\n",
              "    <tr>\n",
              "      <th>2</th>\n",
              "      <td>3</td>\n",
              "      <td>47</td>\n",
              "      <td>40</td>\n",
              "    </tr>\n",
              "    <tr>\n",
              "      <th>3</th>\n",
              "      <td>4</td>\n",
              "      <td>23</td>\n",
              "      <td>22</td>\n",
              "    </tr>\n",
              "  </tbody>\n",
              "</table>\n",
              "</div>"
            ],
            "text/plain": [
              "  ano  Matrículas_março  Matrículas_novembro\n",
              "0   1                70                   65\n",
              "1   2                50                   48\n",
              "2   3                47                   40\n",
              "3   4                23                   22"
            ]
          },
          "metadata": {
            "tags": []
          },
          "execution_count": 39
        }
      ]
    },
    {
      "cell_type": "code",
      "metadata": {
        "id": "gdvzt5LYFAqa"
      },
      "source": [
        "dataset['Taxa_evasão'] = ((dataset['Matrículas_março'] - dataset['Matrículas_novembro']) / dataset['Matrículas_março']) * 100"
      ],
      "execution_count": 40,
      "outputs": []
    },
    {
      "cell_type": "code",
      "metadata": {
        "id": "eX_o4CT45zm8",
        "colab": {
          "base_uri": "https://localhost:8080/",
          "height": 173
        },
        "outputId": "f2fc4b6b-19e6-4402-837a-68075529b9a7"
      },
      "source": [
        "dataset"
      ],
      "execution_count": 41,
      "outputs": [
        {
          "output_type": "execute_result",
          "data": {
            "text/html": [
              "<div>\n",
              "<style scoped>\n",
              "    .dataframe tbody tr th:only-of-type {\n",
              "        vertical-align: middle;\n",
              "    }\n",
              "\n",
              "    .dataframe tbody tr th {\n",
              "        vertical-align: top;\n",
              "    }\n",
              "\n",
              "    .dataframe thead th {\n",
              "        text-align: right;\n",
              "    }\n",
              "</style>\n",
              "<table border=\"1\" class=\"dataframe\">\n",
              "  <thead>\n",
              "    <tr style=\"text-align: right;\">\n",
              "      <th></th>\n",
              "      <th>ano</th>\n",
              "      <th>Matrículas_março</th>\n",
              "      <th>Matrículas_novembro</th>\n",
              "      <th>Taxa_evasão</th>\n",
              "    </tr>\n",
              "  </thead>\n",
              "  <tbody>\n",
              "    <tr>\n",
              "      <th>0</th>\n",
              "      <td>1</td>\n",
              "      <td>70</td>\n",
              "      <td>65</td>\n",
              "      <td>7.142857</td>\n",
              "    </tr>\n",
              "    <tr>\n",
              "      <th>1</th>\n",
              "      <td>2</td>\n",
              "      <td>50</td>\n",
              "      <td>48</td>\n",
              "      <td>4.000000</td>\n",
              "    </tr>\n",
              "    <tr>\n",
              "      <th>2</th>\n",
              "      <td>3</td>\n",
              "      <td>47</td>\n",
              "      <td>40</td>\n",
              "      <td>14.893617</td>\n",
              "    </tr>\n",
              "    <tr>\n",
              "      <th>3</th>\n",
              "      <td>4</td>\n",
              "      <td>23</td>\n",
              "      <td>22</td>\n",
              "      <td>4.347826</td>\n",
              "    </tr>\n",
              "  </tbody>\n",
              "</table>\n",
              "</div>"
            ],
            "text/plain": [
              "  ano  Matrículas_março  Matrículas_novembro  Taxa_evasão\n",
              "0   1                70                   65     7.142857\n",
              "1   2                50                   48     4.000000\n",
              "2   3                47                   40    14.893617\n",
              "3   4                23                   22     4.347826"
            ]
          },
          "metadata": {
            "tags": []
          },
          "execution_count": 41
        }
      ]
    },
    {
      "cell_type": "code",
      "metadata": {
        "id": "XAwFTlD7GvjY"
      },
      "source": [
        ""
      ],
      "execution_count": null,
      "outputs": []
    }
  ]
}