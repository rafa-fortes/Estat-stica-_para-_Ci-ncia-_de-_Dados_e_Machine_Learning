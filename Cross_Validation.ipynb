{
  "nbformat": 4,
  "nbformat_minor": 0,
  "metadata": {
    "colab": {
      "name": "Cross Validation.ipynb",
      "provenance": [],
      "authorship_tag": "ABX9TyNaeAidJo+bjzfDZ95D0SnK",
      "include_colab_link": true
    },
    "kernelspec": {
      "name": "python3",
      "display_name": "Python 3"
    },
    "language_info": {
      "name": "python"
    }
  },
  "cells": [
    {
      "cell_type": "markdown",
      "metadata": {
        "id": "view-in-github",
        "colab_type": "text"
      },
      "source": [
        "<a href=\"https://colab.research.google.com/github/rafa-fortes/Estat-stica-_para-_Ci-ncia-_de-_Dados_e_Machine_Learning/blob/main/Cross_Validation.ipynb\" target=\"_parent\"><img src=\"https://colab.research.google.com/assets/colab-badge.svg\" alt=\"Open In Colab\"/></a>"
      ]
    },
    {
      "cell_type": "markdown",
      "metadata": {
        "id": "MYGEKzNFN-cT"
      },
      "source": [
        "# Bibliotecas"
      ]
    },
    {
      "cell_type": "code",
      "metadata": {
        "id": "UhzIbMS8OKMS"
      },
      "source": [
        "import numpy as np\n",
        "from sklearn.model_selection import train_test_split\n",
        "from sklearn.model_selection import cross_val_score\n",
        "from sklearn import datasets\n",
        "from sklearn import svm\n"
      ],
      "execution_count": 1,
      "outputs": []
    },
    {
      "cell_type": "code",
      "metadata": {
        "id": "neZ5mwTdYaAq"
      },
      "source": [
        "iris = datasets.load_iris()"
      ],
      "execution_count": 4,
      "outputs": []
    },
    {
      "cell_type": "code",
      "metadata": {
        "colab": {
          "base_uri": "https://localhost:8080/"
        },
        "id": "lbim49TZYgpk",
        "outputId": "1d3ffcc0-9b81-4b76-f887-0ce419eb6c19"
      },
      "source": [
        "iris.target"
      ],
      "execution_count": 6,
      "outputs": [
        {
          "output_type": "execute_result",
          "data": {
            "text/plain": [
              "array([0, 0, 0, 0, 0, 0, 0, 0, 0, 0, 0, 0, 0, 0, 0, 0, 0, 0, 0, 0, 0, 0,\n",
              "       0, 0, 0, 0, 0, 0, 0, 0, 0, 0, 0, 0, 0, 0, 0, 0, 0, 0, 0, 0, 0, 0,\n",
              "       0, 0, 0, 0, 0, 0, 1, 1, 1, 1, 1, 1, 1, 1, 1, 1, 1, 1, 1, 1, 1, 1,\n",
              "       1, 1, 1, 1, 1, 1, 1, 1, 1, 1, 1, 1, 1, 1, 1, 1, 1, 1, 1, 1, 1, 1,\n",
              "       1, 1, 1, 1, 1, 1, 1, 1, 1, 1, 1, 1, 2, 2, 2, 2, 2, 2, 2, 2, 2, 2,\n",
              "       2, 2, 2, 2, 2, 2, 2, 2, 2, 2, 2, 2, 2, 2, 2, 2, 2, 2, 2, 2, 2, 2,\n",
              "       2, 2, 2, 2, 2, 2, 2, 2, 2, 2, 2, 2, 2, 2, 2, 2, 2, 2])"
            ]
          },
          "metadata": {
            "tags": []
          },
          "execution_count": 6
        }
      ]
    },
    {
      "cell_type": "markdown",
      "metadata": {
        "id": "NiyyHsH7Y9yl"
      },
      "source": [
        "# Técnica Holdout"
      ]
    },
    {
      "cell_type": "markdown",
      "metadata": {
        "id": "0yXwMg7wZHeX"
      },
      "source": [
        "\n",
        "*   Separar os dados em treino e teste.\n",
        "*   Separar randomicamente em 80% dos dados para treino e 20% dos dados para teste.\n",
        "\n"
      ]
    },
    {
      "cell_type": "code",
      "metadata": {
        "id": "rBxVHyqUYlAk"
      },
      "source": [
        "X_train, X_test, y_train, y_test = train_test_split(iris.data, iris.target, test_size = 0.8)"
      ],
      "execution_count": 20,
      "outputs": []
    },
    {
      "cell_type": "markdown",
      "metadata": {
        "id": "PWxW1FvzchVe"
      },
      "source": [
        "# Instanciando o classificador SVM"
      ]
    },
    {
      "cell_type": "code",
      "metadata": {
        "id": "u3loEiFFceqQ"
      },
      "source": [
        "clf = svm.SVC(gamma = 'auto')"
      ],
      "execution_count": 21,
      "outputs": []
    },
    {
      "cell_type": "markdown",
      "metadata": {
        "id": "RiaLthpkeirU"
      },
      "source": [
        "# treinando o algoritmo"
      ]
    },
    {
      "cell_type": "code",
      "metadata": {
        "colab": {
          "base_uri": "https://localhost:8080/"
        },
        "id": "sYZj8g_9c0BK",
        "outputId": "3e9d9eae-f165-4987-cb70-ae24747df362"
      },
      "source": [
        "clf.fit(X_train, y_train)"
      ],
      "execution_count": 22,
      "outputs": [
        {
          "output_type": "execute_result",
          "data": {
            "text/plain": [
              "SVC(C=1.0, break_ties=False, cache_size=200, class_weight=None, coef0=0.0,\n",
              "    decision_function_shape='ovr', degree=3, gamma='auto', kernel='rbf',\n",
              "    max_iter=-1, probability=False, random_state=None, shrinking=True,\n",
              "    tol=0.001, verbose=False)"
            ]
          },
          "metadata": {
            "tags": []
          },
          "execution_count": 22
        }
      ]
    },
    {
      "cell_type": "markdown",
      "metadata": {
        "id": "OT98QfEBe0-e"
      },
      "source": [
        "# Avaliando o modelo com os dados de teste"
      ]
    },
    {
      "cell_type": "code",
      "metadata": {
        "colab": {
          "base_uri": "https://localhost:8080/"
        },
        "id": "QNIH9e8-et82",
        "outputId": "89aebe34-8401-4b8d-da91-c1584b279a58"
      },
      "source": [
        "clf.score(X_test, y_test)\n",
        "# a accuracy:"
      ],
      "execution_count": 23,
      "outputs": [
        {
          "output_type": "execute_result",
          "data": {
            "text/plain": [
              "0.9416666666666667"
            ]
          },
          "metadata": {
            "tags": []
          },
          "execution_count": 23
        }
      ]
    },
    {
      "cell_type": "markdown",
      "metadata": {
        "id": "dNscXPSigtwu"
      },
      "source": [
        "# Cross Validation"
      ]
    },
    {
      "cell_type": "markdown",
      "metadata": {
        "id": "G52v41r_g3Fy"
      },
      "source": [
        "\n",
        "\n",
        "*   Usando a função do scikit-learn cross_val_score() para automatizar esse método. \n"
      ]
    },
    {
      "cell_type": "markdown",
      "metadata": {
        "id": "ugPnOxp9hTyB"
      },
      "source": [
        "**Executar o Cross Validation com 5 Folds**"
      ]
    },
    {
      "cell_type": "code",
      "metadata": {
        "id": "Xi84KWYcfR6m"
      },
      "source": [
        "# a função cross_val_score recebe por parâmetro o modelo,\n",
        "# todos os dados para treino, os dados de classes, a quantidade de fodls e o método de avaliação\n",
        "scores = cross_val_score(clf, iris.data, iris.target, cv = 5, scoring = 'accuracy')"
      ],
      "execution_count": 26,
      "outputs": []
    },
    {
      "cell_type": "markdown",
      "metadata": {
        "id": "xjcNl0gGjBDL"
      },
      "source": [
        "# Resultados dos folds"
      ]
    },
    {
      "cell_type": "code",
      "metadata": {
        "colab": {
          "base_uri": "https://localhost:8080/"
        },
        "id": "j2Euv1p8h0L8",
        "outputId": "19ea81fc-25c0-4f30-88e3-cdf2d7bf19c4"
      },
      "source": [
        "scores"
      ],
      "execution_count": 27,
      "outputs": [
        {
          "output_type": "execute_result",
          "data": {
            "text/plain": [
              "array([0.96666667, 1.        , 0.96666667, 0.96666667, 1.        ])"
            ]
          },
          "metadata": {
            "tags": []
          },
          "execution_count": 27
        }
      ]
    },
    {
      "cell_type": "markdown",
      "metadata": {
        "id": "UWUtRwXbjNjH"
      },
      "source": [
        "# Média dos resultados"
      ]
    },
    {
      "cell_type": "code",
      "metadata": {
        "colab": {
          "base_uri": "https://localhost:8080/"
        },
        "id": "GVEY_V3jiyWF",
        "outputId": "19976ab0-5172-4038-c340-13dfdb87fd48"
      },
      "source": [
        "scores.mean()"
      ],
      "execution_count": 29,
      "outputs": [
        {
          "output_type": "execute_result",
          "data": {
            "text/plain": [
              "0.9800000000000001"
            ]
          },
          "metadata": {
            "tags": []
          },
          "execution_count": 29
        }
      ]
    },
    {
      "cell_type": "code",
      "metadata": {
        "id": "_24BxZznjX1n"
      },
      "source": [
        ""
      ],
      "execution_count": null,
      "outputs": []
    }
  ]
}