{
  "nbformat": 4,
  "nbformat_minor": 0,
  "metadata": {
    "colab": {
      "name": "Regras de associação(apriori).ipynb",
      "provenance": [],
      "authorship_tag": "ABX9TyN5QeowYt8zMEQVCLaz2Akh",
      "include_colab_link": true
    },
    "kernelspec": {
      "name": "python3",
      "display_name": "Python 3"
    },
    "language_info": {
      "name": "python"
    }
  },
  "cells": [
    {
      "cell_type": "markdown",
      "metadata": {
        "id": "view-in-github",
        "colab_type": "text"
      },
      "source": [
        "<a href=\"https://colab.research.google.com/github/rafa-fortes/Estat-stica-_para-_Ci-ncia-_de-_Dados_e_Machine_Learning/blob/main/Regras_de_associa%C3%A7%C3%A3o(apriori).ipynb\" target=\"_parent\"><img src=\"https://colab.research.google.com/assets/colab-badge.svg\" alt=\"Open In Colab\"/></a>"
      ]
    },
    {
      "cell_type": "code",
      "metadata": {
        "colab": {
          "base_uri": "https://localhost:8080/"
        },
        "id": "18NQM8b-Aamf",
        "outputId": "06792da1-8fe6-4d6d-9fa5-906d1c573daf"
      },
      "source": [
        "import pandas as pd\n",
        "!pip install apyori\n",
        "from apyori import apriori"
      ],
      "execution_count": 21,
      "outputs": [
        {
          "output_type": "stream",
          "text": [
            "Requirement already satisfied: apyori in /usr/local/lib/python3.7/dist-packages (1.1.2)\n"
          ],
          "name": "stdout"
        }
      ]
    },
    {
      "cell_type": "code",
      "metadata": {
        "id": "omtzbRG1FpYM"
      },
      "source": [
        "dataset = pd.read_csv('/content/sample_data/census.csv')"
      ],
      "execution_count": 22,
      "outputs": []
    },
    {
      "cell_type": "code",
      "metadata": {
        "colab": {
          "base_uri": "https://localhost:8080/",
          "height": 306
        },
        "id": "ZxRfQw7CAlHj",
        "outputId": "aeb42265-e717-4adc-8168-102030836ee4"
      },
      "source": [
        "dataset.head()"
      ],
      "execution_count": 3,
      "outputs": [
        {
          "output_type": "execute_result",
          "data": {
            "text/html": [
              "<div>\n",
              "<style scoped>\n",
              "    .dataframe tbody tr th:only-of-type {\n",
              "        vertical-align: middle;\n",
              "    }\n",
              "\n",
              "    .dataframe tbody tr th {\n",
              "        vertical-align: top;\n",
              "    }\n",
              "\n",
              "    .dataframe thead th {\n",
              "        text-align: right;\n",
              "    }\n",
              "</style>\n",
              "<table border=\"1\" class=\"dataframe\">\n",
              "  <thead>\n",
              "    <tr style=\"text-align: right;\">\n",
              "      <th></th>\n",
              "      <th>age</th>\n",
              "      <th>workclass</th>\n",
              "      <th>final-weight</th>\n",
              "      <th>education</th>\n",
              "      <th>education-num</th>\n",
              "      <th>marital-status</th>\n",
              "      <th>occupation</th>\n",
              "      <th>relationship</th>\n",
              "      <th>race</th>\n",
              "      <th>sex</th>\n",
              "      <th>capital-gain</th>\n",
              "      <th>capital-loos</th>\n",
              "      <th>hour-per-week</th>\n",
              "      <th>native-country</th>\n",
              "      <th>income</th>\n",
              "    </tr>\n",
              "  </thead>\n",
              "  <tbody>\n",
              "    <tr>\n",
              "      <th>0</th>\n",
              "      <td>39</td>\n",
              "      <td>State-gov</td>\n",
              "      <td>77516</td>\n",
              "      <td>Bachelors</td>\n",
              "      <td>13</td>\n",
              "      <td>Never-married</td>\n",
              "      <td>Adm-clerical</td>\n",
              "      <td>Not-in-family</td>\n",
              "      <td>White</td>\n",
              "      <td>Male</td>\n",
              "      <td>2174</td>\n",
              "      <td>0</td>\n",
              "      <td>40</td>\n",
              "      <td>United-States</td>\n",
              "      <td>&lt;=50K</td>\n",
              "    </tr>\n",
              "    <tr>\n",
              "      <th>1</th>\n",
              "      <td>50</td>\n",
              "      <td>Self-emp-not-inc</td>\n",
              "      <td>83311</td>\n",
              "      <td>Bachelors</td>\n",
              "      <td>13</td>\n",
              "      <td>Married-civ-spouse</td>\n",
              "      <td>Exec-managerial</td>\n",
              "      <td>Husband</td>\n",
              "      <td>White</td>\n",
              "      <td>Male</td>\n",
              "      <td>0</td>\n",
              "      <td>0</td>\n",
              "      <td>13</td>\n",
              "      <td>United-States</td>\n",
              "      <td>&lt;=50K</td>\n",
              "    </tr>\n",
              "    <tr>\n",
              "      <th>2</th>\n",
              "      <td>38</td>\n",
              "      <td>Private</td>\n",
              "      <td>215646</td>\n",
              "      <td>HS-grad</td>\n",
              "      <td>9</td>\n",
              "      <td>Divorced</td>\n",
              "      <td>Handlers-cleaners</td>\n",
              "      <td>Not-in-family</td>\n",
              "      <td>White</td>\n",
              "      <td>Male</td>\n",
              "      <td>0</td>\n",
              "      <td>0</td>\n",
              "      <td>40</td>\n",
              "      <td>United-States</td>\n",
              "      <td>&lt;=50K</td>\n",
              "    </tr>\n",
              "    <tr>\n",
              "      <th>3</th>\n",
              "      <td>53</td>\n",
              "      <td>Private</td>\n",
              "      <td>234721</td>\n",
              "      <td>11th</td>\n",
              "      <td>7</td>\n",
              "      <td>Married-civ-spouse</td>\n",
              "      <td>Handlers-cleaners</td>\n",
              "      <td>Husband</td>\n",
              "      <td>Black</td>\n",
              "      <td>Male</td>\n",
              "      <td>0</td>\n",
              "      <td>0</td>\n",
              "      <td>40</td>\n",
              "      <td>United-States</td>\n",
              "      <td>&lt;=50K</td>\n",
              "    </tr>\n",
              "    <tr>\n",
              "      <th>4</th>\n",
              "      <td>28</td>\n",
              "      <td>Private</td>\n",
              "      <td>338409</td>\n",
              "      <td>Bachelors</td>\n",
              "      <td>13</td>\n",
              "      <td>Married-civ-spouse</td>\n",
              "      <td>Prof-specialty</td>\n",
              "      <td>Wife</td>\n",
              "      <td>Black</td>\n",
              "      <td>Female</td>\n",
              "      <td>0</td>\n",
              "      <td>0</td>\n",
              "      <td>40</td>\n",
              "      <td>Cuba</td>\n",
              "      <td>&lt;=50K</td>\n",
              "    </tr>\n",
              "  </tbody>\n",
              "</table>\n",
              "</div>"
            ],
            "text/plain": [
              "   age          workclass  final-weight  ... hour-per-week  native-country  income\n",
              "0   39          State-gov         77516  ...            40   United-States   <=50K\n",
              "1   50   Self-emp-not-inc         83311  ...            13   United-States   <=50K\n",
              "2   38            Private        215646  ...            40   United-States   <=50K\n",
              "3   53            Private        234721  ...            40   United-States   <=50K\n",
              "4   28            Private        338409  ...            40            Cuba   <=50K\n",
              "\n",
              "[5 rows x 15 columns]"
            ]
          },
          "metadata": {
            "tags": []
          },
          "execution_count": 3
        }
      ]
    },
    {
      "cell_type": "code",
      "metadata": {
        "colab": {
          "base_uri": "https://localhost:8080/"
        },
        "id": "tVFzQyI-AlKL",
        "outputId": "f66830f4-b074-47f8-ce04-15fff684bf2a"
      },
      "source": [
        "dataset['age'].max(), dataset['age'].min()"
      ],
      "execution_count": 4,
      "outputs": [
        {
          "output_type": "execute_result",
          "data": {
            "text/plain": [
              "(90, 17)"
            ]
          },
          "metadata": {
            "tags": []
          },
          "execution_count": 4
        }
      ]
    },
    {
      "cell_type": "code",
      "metadata": {
        "colab": {
          "base_uri": "https://localhost:8080/",
          "height": 265
        },
        "id": "tfHshY5LAlMw",
        "outputId": "eb704440-d0b6-4b89-e869-45ed0075c0a5"
      },
      "source": [
        "dataset['age'].plot.hist();"
      ],
      "execution_count": 5,
      "outputs": [
        {
          "output_type": "display_data",
          "data": {
            "image/png": "[encoded data removed]",
            "text/plain": [
              "<Figure size 432x288 with 1 Axes>"
            ]
          },
          "metadata": {
            "tags": [],
            "needs_background": "light"
          }
        }
      ]
    },
    {
      "cell_type": "code",
      "metadata": {
        "id": "lLWsbvplAlPd"
      },
      "source": [
        "dataset['age'] = pd.cut(dataset['age'], bins = [0, 17, 25, 40, 60, 90],\n",
        "                       labels = ['Faixa1', 'Faixa2', 'Faixa3', 'Faixa4', 'Faixa5'])"
      ],
      "execution_count": 7,
      "outputs": []
    },
    {
      "cell_type": "code",
      "metadata": {
        "colab": {
          "base_uri": "https://localhost:8080/",
          "height": 623
        },
        "id": "L13qpqDJAlR-",
        "outputId": "dd4c5362-a928-4f26-b0b0-0cb5e60a8e82"
      },
      "source": [
        "dataset"
      ],
      "execution_count": 8,
      "outputs": [
        {
          "output_type": "execute_result",
          "data": {
            "text/html": [
              "<div>\n",
              "<style scoped>\n",
              "    .dataframe tbody tr th:only-of-type {\n",
              "        vertical-align: middle;\n",
              "    }\n",
              "\n",
              "    .dataframe tbody tr th {\n",
              "        vertical-align: top;\n",
              "    }\n",
              "\n",
              "    .dataframe thead th {\n",
              "        text-align: right;\n",
              "    }\n",
              "</style>\n",
              "<table border=\"1\" class=\"dataframe\">\n",
              "  <thead>\n",
              "    <tr style=\"text-align: right;\">\n",
              "      <th></th>\n",
              "      <th>age</th>\n",
              "      <th>workclass</th>\n",
              "      <th>final-weight</th>\n",
              "      <th>education</th>\n",
              "      <th>education-num</th>\n",
              "      <th>marital-status</th>\n",
              "      <th>occupation</th>\n",
              "      <th>relationship</th>\n",
              "      <th>race</th>\n",
              "      <th>sex</th>\n",
              "      <th>capital-gain</th>\n",
              "      <th>capital-loos</th>\n",
              "      <th>hour-per-week</th>\n",
              "      <th>native-country</th>\n",
              "      <th>income</th>\n",
              "    </tr>\n",
              "  </thead>\n",
              "  <tbody>\n",
              "    <tr>\n",
              "      <th>0</th>\n",
              "      <td>Faixa3</td>\n",
              "      <td>State-gov</td>\n",
              "      <td>77516</td>\n",
              "      <td>Bachelors</td>\n",
              "      <td>13</td>\n",
              "      <td>Never-married</td>\n",
              "      <td>Adm-clerical</td>\n",
              "      <td>Not-in-family</td>\n",
              "      <td>White</td>\n",
              "      <td>Male</td>\n",
              "      <td>2174</td>\n",
              "      <td>0</td>\n",
              "      <td>40</td>\n",
              "      <td>United-States</td>\n",
              "      <td>&lt;=50K</td>\n",
              "    </tr>\n",
              "    <tr>\n",
              "      <th>1</th>\n",
              "      <td>Faixa4</td>\n",
              "      <td>Self-emp-not-inc</td>\n",
              "      <td>83311</td>\n",
              "      <td>Bachelors</td>\n",
              "      <td>13</td>\n",
              "      <td>Married-civ-spouse</td>\n",
              "      <td>Exec-managerial</td>\n",
              "      <td>Husband</td>\n",
              "      <td>White</td>\n",
              "      <td>Male</td>\n",
              "      <td>0</td>\n",
              "      <td>0</td>\n",
              "      <td>13</td>\n",
              "      <td>United-States</td>\n",
              "      <td>&lt;=50K</td>\n",
              "    </tr>\n",
              "    <tr>\n",
              "      <th>2</th>\n",
              "      <td>Faixa3</td>\n",
              "      <td>Private</td>\n",
              "      <td>215646</td>\n",
              "      <td>HS-grad</td>\n",
              "      <td>9</td>\n",
              "      <td>Divorced</td>\n",
              "      <td>Handlers-cleaners</td>\n",
              "      <td>Not-in-family</td>\n",
              "      <td>White</td>\n",
              "      <td>Male</td>\n",
              "      <td>0</td>\n",
              "      <td>0</td>\n",
              "      <td>40</td>\n",
              "      <td>United-States</td>\n",
              "      <td>&lt;=50K</td>\n",
              "    </tr>\n",
              "    <tr>\n",
              "      <th>3</th>\n",
              "      <td>Faixa4</td>\n",
              "      <td>Private</td>\n",
              "      <td>234721</td>\n",
              "      <td>11th</td>\n",
              "      <td>7</td>\n",
              "      <td>Married-civ-spouse</td>\n",
              "      <td>Handlers-cleaners</td>\n",
              "      <td>Husband</td>\n",
              "      <td>Black</td>\n",
              "      <td>Male</td>\n",
              "      <td>0</td>\n",
              "      <td>0</td>\n",
              "      <td>40</td>\n",
              "      <td>United-States</td>\n",
              "      <td>&lt;=50K</td>\n",
              "    </tr>\n",
              "    <tr>\n",
              "      <th>4</th>\n",
              "      <td>Faixa3</td>\n",
              "      <td>Private</td>\n",
              "      <td>338409</td>\n",
              "      <td>Bachelors</td>\n",
              "      <td>13</td>\n",
              "      <td>Married-civ-spouse</td>\n",
              "      <td>Prof-specialty</td>\n",
              "      <td>Wife</td>\n",
              "      <td>Black</td>\n",
              "      <td>Female</td>\n",
              "      <td>0</td>\n",
              "      <td>0</td>\n",
              "      <td>40</td>\n",
              "      <td>Cuba</td>\n",
              "      <td>&lt;=50K</td>\n",
              "    </tr>\n",
              "    <tr>\n",
              "      <th>...</th>\n",
              "      <td>...</td>\n",
              "      <td>...</td>\n",
              "      <td>...</td>\n",
              "      <td>...</td>\n",
              "      <td>...</td>\n",
              "      <td>...</td>\n",
              "      <td>...</td>\n",
              "      <td>...</td>\n",
              "      <td>...</td>\n",
              "      <td>...</td>\n",
              "      <td>...</td>\n",
              "      <td>...</td>\n",
              "      <td>...</td>\n",
              "      <td>...</td>\n",
              "      <td>...</td>\n",
              "    </tr>\n",
              "    <tr>\n",
              "      <th>8525</th>\n",
              "      <td>Faixa4</td>\n",
              "      <td>Self-emp-not-inc</td>\n",
              "      <td>57758</td>\n",
              "      <td>Assoc-voc</td>\n",
              "      <td>11</td>\n",
              "      <td>Married-civ-spouse</td>\n",
              "      <td>Sales</td>\n",
              "      <td>Husband</td>\n",
              "      <td>White</td>\n",
              "      <td>Male</td>\n",
              "      <td>0</td>\n",
              "      <td>0</td>\n",
              "      <td>60</td>\n",
              "      <td>United-States</td>\n",
              "      <td>&gt;50K</td>\n",
              "    </tr>\n",
              "    <tr>\n",
              "      <th>8526</th>\n",
              "      <td>Faixa3</td>\n",
              "      <td>Private</td>\n",
              "      <td>207064</td>\n",
              "      <td>HS-grad</td>\n",
              "      <td>9</td>\n",
              "      <td>Married-civ-spouse</td>\n",
              "      <td>Machine-op-inspct</td>\n",
              "      <td>Husband</td>\n",
              "      <td>White</td>\n",
              "      <td>Male</td>\n",
              "      <td>0</td>\n",
              "      <td>0</td>\n",
              "      <td>40</td>\n",
              "      <td>United-States</td>\n",
              "      <td>&lt;=50K</td>\n",
              "    </tr>\n",
              "    <tr>\n",
              "      <th>8527</th>\n",
              "      <td>Faixa2</td>\n",
              "      <td>Private</td>\n",
              "      <td>193090</td>\n",
              "      <td>Some-college</td>\n",
              "      <td>10</td>\n",
              "      <td>Never-married</td>\n",
              "      <td>Adm-clerical</td>\n",
              "      <td>Not-in-family</td>\n",
              "      <td>White</td>\n",
              "      <td>Female</td>\n",
              "      <td>3674</td>\n",
              "      <td>0</td>\n",
              "      <td>40</td>\n",
              "      <td>United-States</td>\n",
              "      <td>&lt;=50K</td>\n",
              "    </tr>\n",
              "    <tr>\n",
              "      <th>8528</th>\n",
              "      <td>Faixa5</td>\n",
              "      <td>Private</td>\n",
              "      <td>151364</td>\n",
              "      <td>Some-college</td>\n",
              "      <td>10</td>\n",
              "      <td>Never-married</td>\n",
              "      <td>Adm-clerical</td>\n",
              "      <td>Not-in-family</td>\n",
              "      <td>White</td>\n",
              "      <td>Female</td>\n",
              "      <td>0</td>\n",
              "      <td>0</td>\n",
              "      <td>40</td>\n",
              "      <td>United-States</td>\n",
              "      <td>&lt;=50K</td>\n",
              "    </tr>\n",
              "    <tr>\n",
              "      <th>8529</th>\n",
              "      <td>Faixa5</td>\n",
              "      <td>Local-gov</td>\n",
              "      <td>88638</td>\n",
              "      <td>Masters</td>\n",
              "      <td>14</td>\n",
              "      <td>Never-married</td>\n",
              "      <td>Prof-specialty</td>\n",
              "      <td>Unmarried</td>\n",
              "      <td>White</td>\n",
              "      <td>Female</td>\n",
              "      <td>7896</td>\n",
              "      <td>0</td>\n",
              "      <td>50</td>\n",
              "      <td>United-States</td>\n",
              "      <td>&gt;5</td>\n",
              "    </tr>\n",
              "  </tbody>\n",
              "</table>\n",
              "<p>8530 rows × 15 columns</p>\n",
              "</div>"
            ],
            "text/plain": [
              "         age          workclass  ...  native-country  income\n",
              "0     Faixa3          State-gov  ...   United-States   <=50K\n",
              "1     Faixa4   Self-emp-not-inc  ...   United-States   <=50K\n",
              "2     Faixa3            Private  ...   United-States   <=50K\n",
              "3     Faixa4            Private  ...   United-States   <=50K\n",
              "4     Faixa3            Private  ...            Cuba   <=50K\n",
              "...      ...                ...  ...             ...     ...\n",
              "8525  Faixa4   Self-emp-not-inc  ...   United-States    >50K\n",
              "8526  Faixa3            Private  ...   United-States   <=50K\n",
              "8527  Faixa2            Private  ...   United-States   <=50K\n",
              "8528  Faixa5            Private  ...   United-States   <=50K\n",
              "8529  Faixa5          Local-gov  ...   United-States      >5\n",
              "\n",
              "[8530 rows x 15 columns]"
            ]
          },
          "metadata": {
            "tags": []
          },
          "execution_count": 8
        }
      ]
    },
    {
      "cell_type": "code",
      "metadata": {
        "colab": {
          "base_uri": "https://localhost:8080/"
        },
        "id": "OnXUnp8_Bd0d",
        "outputId": "5c1fe58f-92e6-4ac4-c0eb-440eec5c7844"
      },
      "source": [
        "dataset['age'].unique()"
      ],
      "execution_count": 9,
      "outputs": [
        {
          "output_type": "execute_result",
          "data": {
            "text/plain": [
              "['Faixa3', 'Faixa4', 'Faixa2', 'Faixa5', 'Faixa1']\n",
              "Categories (5, object): ['Faixa1' < 'Faixa2' < 'Faixa3' < 'Faixa4' < 'Faixa5']"
            ]
          },
          "metadata": {
            "tags": []
          },
          "execution_count": 9
        }
      ]
    },
    {
      "cell_type": "markdown",
      "metadata": {
        "id": "zuDTc8pxBwb8"
      },
      "source": [
        "# Regras de associação"
      ]
    },
    {
      "cell_type": "code",
      "metadata": {
        "colab": {
          "base_uri": "https://localhost:8080/",
          "height": 306
        },
        "id": "1QnG7vJ_BrAD",
        "outputId": "8736ea25-e76a-4101-d484-224f6cc391f9"
      },
      "source": [
        "dataset.head()"
      ],
      "execution_count": 10,
      "outputs": [
        {
          "output_type": "execute_result",
          "data": {
            "text/html": [
              "<div>\n",
              "<style scoped>\n",
              "    .dataframe tbody tr th:only-of-type {\n",
              "        vertical-align: middle;\n",
              "    }\n",
              "\n",
              "    .dataframe tbody tr th {\n",
              "        vertical-align: top;\n",
              "    }\n",
              "\n",
              "    .dataframe thead th {\n",
              "        text-align: right;\n",
              "    }\n",
              "</style>\n",
              "<table border=\"1\" class=\"dataframe\">\n",
              "  <thead>\n",
              "    <tr style=\"text-align: right;\">\n",
              "      <th></th>\n",
              "      <th>age</th>\n",
              "      <th>workclass</th>\n",
              "      <th>final-weight</th>\n",
              "      <th>education</th>\n",
              "      <th>education-num</th>\n",
              "      <th>marital-status</th>\n",
              "      <th>occupation</th>\n",
              "      <th>relationship</th>\n",
              "      <th>race</th>\n",
              "      <th>sex</th>\n",
              "      <th>capital-gain</th>\n",
              "      <th>capital-loos</th>\n",
              "      <th>hour-per-week</th>\n",
              "      <th>native-country</th>\n",
              "      <th>income</th>\n",
              "    </tr>\n",
              "  </thead>\n",
              "  <tbody>\n",
              "    <tr>\n",
              "      <th>0</th>\n",
              "      <td>Faixa3</td>\n",
              "      <td>State-gov</td>\n",
              "      <td>77516</td>\n",
              "      <td>Bachelors</td>\n",
              "      <td>13</td>\n",
              "      <td>Never-married</td>\n",
              "      <td>Adm-clerical</td>\n",
              "      <td>Not-in-family</td>\n",
              "      <td>White</td>\n",
              "      <td>Male</td>\n",
              "      <td>2174</td>\n",
              "      <td>0</td>\n",
              "      <td>40</td>\n",
              "      <td>United-States</td>\n",
              "      <td>&lt;=50K</td>\n",
              "    </tr>\n",
              "    <tr>\n",
              "      <th>1</th>\n",
              "      <td>Faixa4</td>\n",
              "      <td>Self-emp-not-inc</td>\n",
              "      <td>83311</td>\n",
              "      <td>Bachelors</td>\n",
              "      <td>13</td>\n",
              "      <td>Married-civ-spouse</td>\n",
              "      <td>Exec-managerial</td>\n",
              "      <td>Husband</td>\n",
              "      <td>White</td>\n",
              "      <td>Male</td>\n",
              "      <td>0</td>\n",
              "      <td>0</td>\n",
              "      <td>13</td>\n",
              "      <td>United-States</td>\n",
              "      <td>&lt;=50K</td>\n",
              "    </tr>\n",
              "    <tr>\n",
              "      <th>2</th>\n",
              "      <td>Faixa3</td>\n",
              "      <td>Private</td>\n",
              "      <td>215646</td>\n",
              "      <td>HS-grad</td>\n",
              "      <td>9</td>\n",
              "      <td>Divorced</td>\n",
              "      <td>Handlers-cleaners</td>\n",
              "      <td>Not-in-family</td>\n",
              "      <td>White</td>\n",
              "      <td>Male</td>\n",
              "      <td>0</td>\n",
              "      <td>0</td>\n",
              "      <td>40</td>\n",
              "      <td>United-States</td>\n",
              "      <td>&lt;=50K</td>\n",
              "    </tr>\n",
              "    <tr>\n",
              "      <th>3</th>\n",
              "      <td>Faixa4</td>\n",
              "      <td>Private</td>\n",
              "      <td>234721</td>\n",
              "      <td>11th</td>\n",
              "      <td>7</td>\n",
              "      <td>Married-civ-spouse</td>\n",
              "      <td>Handlers-cleaners</td>\n",
              "      <td>Husband</td>\n",
              "      <td>Black</td>\n",
              "      <td>Male</td>\n",
              "      <td>0</td>\n",
              "      <td>0</td>\n",
              "      <td>40</td>\n",
              "      <td>United-States</td>\n",
              "      <td>&lt;=50K</td>\n",
              "    </tr>\n",
              "    <tr>\n",
              "      <th>4</th>\n",
              "      <td>Faixa3</td>\n",
              "      <td>Private</td>\n",
              "      <td>338409</td>\n",
              "      <td>Bachelors</td>\n",
              "      <td>13</td>\n",
              "      <td>Married-civ-spouse</td>\n",
              "      <td>Prof-specialty</td>\n",
              "      <td>Wife</td>\n",
              "      <td>Black</td>\n",
              "      <td>Female</td>\n",
              "      <td>0</td>\n",
              "      <td>0</td>\n",
              "      <td>40</td>\n",
              "      <td>Cuba</td>\n",
              "      <td>&lt;=50K</td>\n",
              "    </tr>\n",
              "  </tbody>\n",
              "</table>\n",
              "</div>"
            ],
            "text/plain": [
              "      age          workclass  ...  native-country  income\n",
              "0  Faixa3          State-gov  ...   United-States   <=50K\n",
              "1  Faixa4   Self-emp-not-inc  ...   United-States   <=50K\n",
              "2  Faixa3            Private  ...   United-States   <=50K\n",
              "3  Faixa4            Private  ...   United-States   <=50K\n",
              "4  Faixa3            Private  ...            Cuba   <=50K\n",
              "\n",
              "[5 rows x 15 columns]"
            ]
          },
          "metadata": {
            "tags": []
          },
          "execution_count": 10
        }
      ]
    },
    {
      "cell_type": "code",
      "metadata": {
        "id": "P1wHMdlTBmHl"
      },
      "source": [
        "dataset_apriori = dataset[['age', 'workclass', 'education', 'marital-status', 'relationship', 'occupation', 'sex', 'native-country', 'income']]"
      ],
      "execution_count": 12,
      "outputs": []
    },
    {
      "cell_type": "code",
      "metadata": {
        "colab": {
          "base_uri": "https://localhost:8080/",
          "height": 204
        },
        "id": "OnWKNIWkDEg3",
        "outputId": "b0223bba-bb04-49be-d88f-06709f6f95f1"
      },
      "source": [
        "dataset_apriori.head()"
      ],
      "execution_count": 14,
      "outputs": [
        {
          "output_type": "execute_result",
          "data": {
            "text/html": [
              "<div>\n",
              "<style scoped>\n",
              "    .dataframe tbody tr th:only-of-type {\n",
              "        vertical-align: middle;\n",
              "    }\n",
              "\n",
              "    .dataframe tbody tr th {\n",
              "        vertical-align: top;\n",
              "    }\n",
              "\n",
              "    .dataframe thead th {\n",
              "        text-align: right;\n",
              "    }\n",
              "</style>\n",
              "<table border=\"1\" class=\"dataframe\">\n",
              "  <thead>\n",
              "    <tr style=\"text-align: right;\">\n",
              "      <th></th>\n",
              "      <th>age</th>\n",
              "      <th>workclass</th>\n",
              "      <th>education</th>\n",
              "      <th>marital-status</th>\n",
              "      <th>relationship</th>\n",
              "      <th>occupation</th>\n",
              "      <th>sex</th>\n",
              "      <th>native-country</th>\n",
              "      <th>income</th>\n",
              "    </tr>\n",
              "  </thead>\n",
              "  <tbody>\n",
              "    <tr>\n",
              "      <th>0</th>\n",
              "      <td>Faixa3</td>\n",
              "      <td>State-gov</td>\n",
              "      <td>Bachelors</td>\n",
              "      <td>Never-married</td>\n",
              "      <td>Not-in-family</td>\n",
              "      <td>Adm-clerical</td>\n",
              "      <td>Male</td>\n",
              "      <td>United-States</td>\n",
              "      <td>&lt;=50K</td>\n",
              "    </tr>\n",
              "    <tr>\n",
              "      <th>1</th>\n",
              "      <td>Faixa4</td>\n",
              "      <td>Self-emp-not-inc</td>\n",
              "      <td>Bachelors</td>\n",
              "      <td>Married-civ-spouse</td>\n",
              "      <td>Husband</td>\n",
              "      <td>Exec-managerial</td>\n",
              "      <td>Male</td>\n",
              "      <td>United-States</td>\n",
              "      <td>&lt;=50K</td>\n",
              "    </tr>\n",
              "    <tr>\n",
              "      <th>2</th>\n",
              "      <td>Faixa3</td>\n",
              "      <td>Private</td>\n",
              "      <td>HS-grad</td>\n",
              "      <td>Divorced</td>\n",
              "      <td>Not-in-family</td>\n",
              "      <td>Handlers-cleaners</td>\n",
              "      <td>Male</td>\n",
              "      <td>United-States</td>\n",
              "      <td>&lt;=50K</td>\n",
              "    </tr>\n",
              "    <tr>\n",
              "      <th>3</th>\n",
              "      <td>Faixa4</td>\n",
              "      <td>Private</td>\n",
              "      <td>11th</td>\n",
              "      <td>Married-civ-spouse</td>\n",
              "      <td>Husband</td>\n",
              "      <td>Handlers-cleaners</td>\n",
              "      <td>Male</td>\n",
              "      <td>United-States</td>\n",
              "      <td>&lt;=50K</td>\n",
              "    </tr>\n",
              "    <tr>\n",
              "      <th>4</th>\n",
              "      <td>Faixa3</td>\n",
              "      <td>Private</td>\n",
              "      <td>Bachelors</td>\n",
              "      <td>Married-civ-spouse</td>\n",
              "      <td>Wife</td>\n",
              "      <td>Prof-specialty</td>\n",
              "      <td>Female</td>\n",
              "      <td>Cuba</td>\n",
              "      <td>&lt;=50K</td>\n",
              "    </tr>\n",
              "  </tbody>\n",
              "</table>\n",
              "</div>"
            ],
            "text/plain": [
              "      age          workclass   education  ...      sex  native-country  income\n",
              "0  Faixa3          State-gov   Bachelors  ...     Male   United-States   <=50K\n",
              "1  Faixa4   Self-emp-not-inc   Bachelors  ...     Male   United-States   <=50K\n",
              "2  Faixa3            Private     HS-grad  ...     Male   United-States   <=50K\n",
              "3  Faixa4            Private        11th  ...     Male   United-States   <=50K\n",
              "4  Faixa3            Private   Bachelors  ...   Female            Cuba   <=50K\n",
              "\n",
              "[5 rows x 9 columns]"
            ]
          },
          "metadata": {
            "tags": []
          },
          "execution_count": 14
        }
      ]
    },
    {
      "cell_type": "code",
      "metadata": {
        "colab": {
          "base_uri": "https://localhost:8080/"
        },
        "id": "CrMH67HADzFn",
        "outputId": "169d3d17-1b42-4180-f28d-ab054a453926"
      },
      "source": [
        "dataset_apriori = dataset_apriori.sample(n = 1000)\n",
        "dataset_apriori.shape"
      ],
      "execution_count": 15,
      "outputs": [
        {
          "output_type": "execute_result",
          "data": {
            "text/plain": [
              "(1000, 9)"
            ]
          },
          "metadata": {
            "tags": []
          },
          "execution_count": 15
        }
      ]
    },
    {
      "cell_type": "code",
      "metadata": {
        "id": "22yDMCyvECjU"
      },
      "source": [
        "transacoes = []\n",
        "for i in range(dataset_apriori.shape[0]):\n",
        "  transacoes.append([str(dataset_apriori.values[i, j]) for j in range(dataset_apriori.shape[1])])"
      ],
      "execution_count": 27,
      "outputs": []
    },
    {
      "cell_type": "code",
      "metadata": {
        "colab": {
          "base_uri": "https://localhost:8080/"
        },
        "id": "EIwSLcmMEkZG",
        "outputId": "8328d17a-a2f7-49da-a1e3-2f670629e925"
      },
      "source": [
        "len(transacoes)"
      ],
      "execution_count": 28,
      "outputs": [
        {
          "output_type": "execute_result",
          "data": {
            "text/plain": [
              "1000"
            ]
          },
          "metadata": {
            "tags": []
          },
          "execution_count": 28
        }
      ]
    },
    {
      "cell_type": "code",
      "metadata": {
        "colab": {
          "base_uri": "https://localhost:8080/"
        },
        "id": "HFqGoyG0Et1R",
        "outputId": "ca16e881-553e-4842-f559-6de79d286ac6"
      },
      "source": [
        "transacoes[:2]"
      ],
      "execution_count": 29,
      "outputs": [
        {
          "output_type": "execute_result",
          "data": {
            "text/plain": [
              "[['Faixa2',\n",
              "  ' Private',\n",
              "  ' Some-college',\n",
              "  ' Never-married',\n",
              "  ' Own-child',\n",
              "  ' Adm-clerical',\n",
              "  ' Female',\n",
              "  ' United-States',\n",
              "  ' <=50K'],\n",
              " ['Faixa3',\n",
              "  ' Self-emp-inc',\n",
              "  ' Some-college',\n",
              "  ' Never-married',\n",
              "  ' Not-in-family',\n",
              "  ' Exec-managerial',\n",
              "  ' Male',\n",
              "  ' United-States',\n",
              "  ' <=50K']]"
            ]
          },
          "metadata": {
            "tags": []
          },
          "execution_count": 29
        }
      ]
    },
    {
      "cell_type": "code",
      "metadata": {
        "id": "nc_l0vNqFB3H"
      },
      "source": [
        "regras = apriori(transacoes, min_support = 0.3, min_confidence = 0.2)\n",
        "resultados = list(regras)"
      ],
      "execution_count": 32,
      "outputs": []
    },
    {
      "cell_type": "code",
      "metadata": {
        "colab": {
          "base_uri": "https://localhost:8080/"
        },
        "id": "jhcMI8kyGD5X",
        "outputId": "da40504b-0d8b-4aad-8c2a-b0c983be8b81"
      },
      "source": [
        "len(resultados)"
      ],
      "execution_count": 33,
      "outputs": [
        {
          "output_type": "execute_result",
          "data": {
            "text/plain": [
              "37"
            ]
          },
          "metadata": {
            "tags": []
          },
          "execution_count": 33
        }
      ]
    },
    {
      "cell_type": "code",
      "metadata": {
        "colab": {
          "base_uri": "https://localhost:8080/"
        },
        "id": "M6KfyNbVGH2O",
        "outputId": "915f2734-d769-427f-8235-19ebe6969574"
      },
      "source": [
        "#Regras de associação\n",
        "resultados"
      ],
      "execution_count": 34,
      "outputs": [
        {
          "output_type": "execute_result",
          "data": {
            "text/plain": [
              "[RelationRecord(items=frozenset({' <=50K'}), support=0.762, ordered_statistics=[OrderedStatistic(items_base=frozenset(), items_add=frozenset({' <=50K'}), confidence=0.762, lift=1.0)]),\n",
              " RelationRecord(items=frozenset({' Female'}), support=0.312, ordered_statistics=[OrderedStatistic(items_base=frozenset(), items_add=frozenset({' Female'}), confidence=0.312, lift=1.0)]),\n",
              " RelationRecord(items=frozenset({' HS-grad'}), support=0.326, ordered_statistics=[OrderedStatistic(items_base=frozenset(), items_add=frozenset({' HS-grad'}), confidence=0.326, lift=1.0)]),\n",
              " RelationRecord(items=frozenset({' Husband'}), support=0.426, ordered_statistics=[OrderedStatistic(items_base=frozenset(), items_add=frozenset({' Husband'}), confidence=0.426, lift=1.0)]),\n",
              " RelationRecord(items=frozenset({' Male'}), support=0.688, ordered_statistics=[OrderedStatistic(items_base=frozenset(), items_add=frozenset({' Male'}), confidence=0.688, lift=1.0)]),\n",
              " RelationRecord(items=frozenset({' Married-civ-spouse'}), support=0.483, ordered_statistics=[OrderedStatistic(items_base=frozenset(), items_add=frozenset({' Married-civ-spouse'}), confidence=0.483, lift=1.0)]),\n",
              " RelationRecord(items=frozenset({' Never-married'}), support=0.312, ordered_statistics=[OrderedStatistic(items_base=frozenset(), items_add=frozenset({' Never-married'}), confidence=0.312, lift=1.0)]),\n",
              " RelationRecord(items=frozenset({' Private'}), support=0.687, ordered_statistics=[OrderedStatistic(items_base=frozenset(), items_add=frozenset({' Private'}), confidence=0.687, lift=1.0)]),\n",
              " RelationRecord(items=frozenset({' United-States'}), support=0.896, ordered_statistics=[OrderedStatistic(items_base=frozenset(), items_add=frozenset({' United-States'}), confidence=0.896, lift=1.0)]),\n",
              " RelationRecord(items=frozenset({'Faixa3'}), support=0.402, ordered_statistics=[OrderedStatistic(items_base=frozenset(), items_add=frozenset({'Faixa3'}), confidence=0.402, lift=1.0)]),\n",
              " RelationRecord(items=frozenset({'Faixa4'}), support=0.336, ordered_statistics=[OrderedStatistic(items_base=frozenset(), items_add=frozenset({'Faixa4'}), confidence=0.336, lift=1.0)]),\n",
              " RelationRecord(items=frozenset({' Male', ' <=50K'}), support=0.484, ordered_statistics=[OrderedStatistic(items_base=frozenset(), items_add=frozenset({' Male', ' <=50K'}), confidence=0.484, lift=1.0), OrderedStatistic(items_base=frozenset({' <=50K'}), items_add=frozenset({' Male'}), confidence=0.6351706036745407, lift=0.9232130867362511), OrderedStatistic(items_base=frozenset({' Male'}), items_add=frozenset({' <=50K'}), confidence=0.7034883720930233, lift=0.923213086736251)]),\n",
              " RelationRecord(items=frozenset({' Private', ' <=50K'}), support=0.528, ordered_statistics=[OrderedStatistic(items_base=frozenset(), items_add=frozenset({' Private', ' <=50K'}), confidence=0.528, lift=1.0), OrderedStatistic(items_base=frozenset({' <=50K'}), items_add=frozenset({' Private'}), confidence=0.6929133858267716, lift=1.0086075485105845), OrderedStatistic(items_base=frozenset({' Private'}), items_add=frozenset({' <=50K'}), confidence=0.7685589519650655, lift=1.0086075485105848)]),\n",
              " RelationRecord(items=frozenset({' <=50K', ' United-States'}), support=0.677, ordered_statistics=[OrderedStatistic(items_base=frozenset(), items_add=frozenset({' <=50K', ' United-States'}), confidence=0.677, lift=1.0), OrderedStatistic(items_base=frozenset({' <=50K'}), items_add=frozenset({' United-States'}), confidence=0.8884514435695539, lift=0.9915752718410199), OrderedStatistic(items_base=frozenset({' United-States'}), items_add=frozenset({' <=50K'}), confidence=0.7555803571428572, lift=0.9915752718410199)]),\n",
              " RelationRecord(items=frozenset({' <=50K', 'Faixa3'}), support=0.303, ordered_statistics=[OrderedStatistic(items_base=frozenset(), items_add=frozenset({' <=50K', 'Faixa3'}), confidence=0.303, lift=1.0), OrderedStatistic(items_base=frozenset({' <=50K'}), items_add=frozenset({'Faixa3'}), confidence=0.3976377952755905, lift=0.989148744466643), OrderedStatistic(items_base=frozenset({'Faixa3'}), items_add=frozenset({' <=50K'}), confidence=0.753731343283582, lift=0.9891487444666431)]),\n",
              " RelationRecord(items=frozenset({' HS-grad', ' United-States'}), support=0.306, ordered_statistics=[OrderedStatistic(items_base=frozenset(), items_add=frozenset({' HS-grad', ' United-States'}), confidence=0.306, lift=1.0), OrderedStatistic(items_base=frozenset({' HS-grad'}), items_add=frozenset({' United-States'}), confidence=0.9386503067484662, lift=1.0476007887817702), OrderedStatistic(items_base=frozenset({' United-States'}), items_add=frozenset({' HS-grad'}), confidence=0.34151785714285715, lift=1.0476007887817704)]),\n",
              " RelationRecord(items=frozenset({' Male', ' Husband'}), support=0.426, ordered_statistics=[OrderedStatistic(items_base=frozenset(), items_add=frozenset({' Male', ' Husband'}), confidence=0.426, lift=1.0), OrderedStatistic(items_base=frozenset({' Husband'}), items_add=frozenset({' Male'}), confidence=1.0, lift=1.4534883720930234), OrderedStatistic(items_base=frozenset({' Male'}), items_add=frozenset({' Husband'}), confidence=0.6191860465116279, lift=1.4534883720930232)]),\n",
              " RelationRecord(items=frozenset({' Married-civ-spouse', ' Husband'}), support=0.426, ordered_statistics=[OrderedStatistic(items_base=frozenset(), items_add=frozenset({' Married-civ-spouse', ' Husband'}), confidence=0.426, lift=1.0), OrderedStatistic(items_base=frozenset({' Husband'}), items_add=frozenset({' Married-civ-spouse'}), confidence=1.0, lift=2.070393374741201), OrderedStatistic(items_base=frozenset({' Married-civ-spouse'}), items_add=frozenset({' Husband'}), confidence=0.8819875776397516, lift=2.070393374741201)]),\n",
              " RelationRecord(items=frozenset({' Husband', ' United-States'}), support=0.382, ordered_statistics=[OrderedStatistic(items_base=frozenset(), items_add=frozenset({' Husband', ' United-States'}), confidence=0.382, lift=1.0), OrderedStatistic(items_base=frozenset({' Husband'}), items_add=frozenset({' United-States'}), confidence=0.8967136150234742, lift=1.0007964453386988), OrderedStatistic(items_base=frozenset({' United-States'}), items_add=frozenset({' Husband'}), confidence=0.4263392857142857, lift=1.0007964453386988)]),\n",
              " RelationRecord(items=frozenset({' Married-civ-spouse', ' Male'}), support=0.429, ordered_statistics=[OrderedStatistic(items_base=frozenset(), items_add=frozenset({' Married-civ-spouse', ' Male'}), confidence=0.429, lift=1.0), OrderedStatistic(items_base=frozenset({' Male'}), items_add=frozenset({' Married-civ-spouse'}), confidence=0.623546511627907, lift=1.2909865665174058), OrderedStatistic(items_base=frozenset({' Married-civ-spouse'}), items_add=frozenset({' Male'}), confidence=0.8881987577639752, lift=1.2909865665174058)]),\n",
              " RelationRecord(items=frozenset({' Private', ' Male'}), support=0.483, ordered_statistics=[OrderedStatistic(items_base=frozenset(), items_add=frozenset({' Private', ' Male'}), confidence=0.483, lift=1.0), OrderedStatistic(items_base=frozenset({' Male'}), items_add=frozenset({' Private'}), confidence=0.7020348837209303, lift=1.0218848380217325), OrderedStatistic(items_base=frozenset({' Private'}), items_add=frozenset({' Male'}), confidence=0.7030567685589519, lift=1.0218848380217325)]),\n",
              " RelationRecord(items=frozenset({' Male', ' United-States'}), support=0.614, ordered_statistics=[OrderedStatistic(items_base=frozenset(), items_add=frozenset({' Male', ' United-States'}), confidence=0.614, lift=1.0), OrderedStatistic(items_base=frozenset({' Male'}), items_add=frozenset({' United-States'}), confidence=0.8924418604651163, lift=0.9960288621262459), OrderedStatistic(items_base=frozenset({' United-States'}), items_add=frozenset({' Male'}), confidence=0.6852678571428571, lift=0.9960288621262459)]),\n",
              " RelationRecord(items=frozenset({' Married-civ-spouse', ' Private'}), support=0.324, ordered_statistics=[OrderedStatistic(items_base=frozenset(), items_add=frozenset({' Married-civ-spouse', ' Private'}), confidence=0.324, lift=1.0), OrderedStatistic(items_base=frozenset({' Married-civ-spouse'}), items_add=frozenset({' Private'}), confidence=0.6708074534161491, lift=0.9764300631967235), OrderedStatistic(items_base=frozenset({' Private'}), items_add=frozenset({' Married-civ-spouse'}), confidence=0.47161572052401746, lift=0.9764300631967235)]),\n",
              " RelationRecord(items=frozenset({' Married-civ-spouse', ' United-States'}), support=0.43, ordered_statistics=[OrderedStatistic(items_base=frozenset(), items_add=frozenset({' Married-civ-spouse', ' United-States'}), confidence=0.43, lift=1.0), OrderedStatistic(items_base=frozenset({' Married-civ-spouse'}), items_add=frozenset({' United-States'}), confidence=0.8902691511387164, lift=0.9936039633244602), OrderedStatistic(items_base=frozenset({' United-States'}), items_add=frozenset({' Married-civ-spouse'}), confidence=0.47991071428571425, lift=0.9936039633244602)]),\n",
              " RelationRecord(items=frozenset({' Private', ' United-States'}), support=0.607, ordered_statistics=[OrderedStatistic(items_base=frozenset(), items_add=frozenset({' Private', ' United-States'}), confidence=0.607, lift=1.0), OrderedStatistic(items_base=frozenset({' Private'}), items_add=frozenset({' United-States'}), confidence=0.8835516739446869, lift=0.9861067789561238), OrderedStatistic(items_base=frozenset({' United-States'}), items_add=frozenset({' Private'}), confidence=0.6774553571428571, lift=0.9861067789561238)]),\n",
              " RelationRecord(items=frozenset({' Private', 'Faixa3'}), support=0.302, ordered_statistics=[OrderedStatistic(items_base=frozenset(), items_add=frozenset({' Private', 'Faixa3'}), confidence=0.302, lift=1.0), OrderedStatistic(items_base=frozenset({' Private'}), items_add=frozenset({'Faixa3'}), confidence=0.43959243085880634, lift=1.0935135095990207), OrderedStatistic(items_base=frozenset({'Faixa3'}), items_add=frozenset({' Private'}), confidence=0.7512437810945273, lift=1.0935135095990207)]),\n",
              " RelationRecord(items=frozenset({'Faixa3', ' United-States'}), support=0.354, ordered_statistics=[OrderedStatistic(items_base=frozenset(), items_add=frozenset({'Faixa3', ' United-States'}), confidence=0.354, lift=1.0), OrderedStatistic(items_base=frozenset({' United-States'}), items_add=frozenset({'Faixa3'}), confidence=0.3950892857142857, lift=0.9828091684434968), OrderedStatistic(items_base=frozenset({'Faixa3'}), items_add=frozenset({' United-States'}), confidence=0.880597014925373, lift=0.9828091684434966)]),\n",
              " RelationRecord(items=frozenset({'Faixa4', ' United-States'}), support=0.306, ordered_statistics=[OrderedStatistic(items_base=frozenset(), items_add=frozenset({'Faixa4', ' United-States'}), confidence=0.306, lift=1.0), OrderedStatistic(items_base=frozenset({' United-States'}), items_add=frozenset({'Faixa4'}), confidence=0.34151785714285715, lift=1.016422193877551), OrderedStatistic(items_base=frozenset({'Faixa4'}), items_add=frozenset({' United-States'}), confidence=0.9107142857142856, lift=1.0164221938775508)]),\n",
              " RelationRecord(items=frozenset({' Private', ' Male', ' <=50K'}), support=0.34, ordered_statistics=[OrderedStatistic(items_base=frozenset(), items_add=frozenset({' Private', ' Male', ' <=50K'}), confidence=0.34, lift=1.0), OrderedStatistic(items_base=frozenset({' <=50K'}), items_add=frozenset({' Private', ' Male'}), confidence=0.4461942257217848, lift=0.9237975687821631), OrderedStatistic(items_base=frozenset({' Male'}), items_add=frozenset({' Private', ' <=50K'}), confidence=0.494186046511628, lift=0.9359584214235378), OrderedStatistic(items_base=frozenset({' Private'}), items_add=frozenset({' Male', ' <=50K'}), confidence=0.49490538573508003, lift=1.022531788708843), OrderedStatistic(items_base=frozenset({' Male', ' <=50K'}), items_add=frozenset({' Private'}), confidence=0.7024793388429753, lift=1.0225317887088432), OrderedStatistic(items_base=frozenset({' Private', ' <=50K'}), items_add=frozenset({' Male'}), confidence=0.6439393939393939, lift=0.9359584214235378), OrderedStatistic(items_base=frozenset({' Private', ' Male'}), items_add=frozenset({' <=50K'}), confidence=0.7039337474120083, lift=0.9237975687821631)]),\n",
              " RelationRecord(items=frozenset({' Male', ' <=50K', ' United-States'}), support=0.426, ordered_statistics=[OrderedStatistic(items_base=frozenset(), items_add=frozenset({' Male', ' <=50K', ' United-States'}), confidence=0.426, lift=1.0), OrderedStatistic(items_base=frozenset({' <=50K'}), items_add=frozenset({' Male', ' United-States'}), confidence=0.5590551181102362, lift=0.9105132216779092), OrderedStatistic(items_base=frozenset({' Male'}), items_add=frozenset({' <=50K', ' United-States'}), confidence=0.6191860465116279, lift=0.9146027274913262), OrderedStatistic(items_base=frozenset({' United-States'}), items_add=frozenset({' Male', ' <=50K'}), confidence=0.47544642857142855, lift=0.9823273317591499), OrderedStatistic(items_base=frozenset({' Male', ' <=50K'}), items_add=frozenset({' United-States'}), confidence=0.8801652892561983, lift=0.9823273317591499), OrderedStatistic(items_base=frozenset({' <=50K', ' United-States'}), items_add=frozenset({' Male'}), confidence=0.6292466765140324, lift=0.9146027274913263), OrderedStatistic(items_base=frozenset({' Male', ' United-States'}), items_add=frozenset({' <=50K'}), confidence=0.6938110749185668, lift=0.9105132216779092)]),\n",
              " RelationRecord(items=frozenset({' Private', ' <=50K', ' United-States'}), support=0.46, ordered_statistics=[OrderedStatistic(items_base=frozenset(), items_add=frozenset({' Private', ' <=50K', ' United-States'}), confidence=0.46, lift=1.0), OrderedStatistic(items_base=frozenset({' <=50K'}), items_add=frozenset({' Private', ' United-States'}), confidence=0.6036745406824147, lift=0.9945214838260539), OrderedStatistic(items_base=frozenset({' Private'}), items_add=frozenset({' <=50K', ' United-States'}), confidence=0.6695778748180494, lift=0.9890367427149916), OrderedStatistic(items_base=frozenset({' United-States'}), items_add=frozenset({' Private', ' <=50K'}), confidence=0.5133928571428572, lift=0.9723349567099567), OrderedStatistic(items_base=frozenset({' Private', ' <=50K'}), items_add=frozenset({' United-States'}), confidence=0.8712121212121212, lift=0.9723349567099567), OrderedStatistic(items_base=frozenset({' <=50K', ' United-States'}), items_add=frozenset({' Private'}), confidence=0.6794682422451994, lift=0.9890367427149918), OrderedStatistic(items_base=frozenset({' Private', ' United-States'}), items_add=frozenset({' <=50K'}), confidence=0.7578253706754531, lift=0.9945214838260539)]),\n",
              " RelationRecord(items=frozenset({' Married-civ-spouse', ' Male', ' Husband'}), support=0.426, ordered_statistics=[OrderedStatistic(items_base=frozenset(), items_add=frozenset({' Married-civ-spouse', ' Male', ' Husband'}), confidence=0.426, lift=1.0), OrderedStatistic(items_base=frozenset({' Husband'}), items_add=frozenset({' Married-civ-spouse', ' Male'}), confidence=1.0, lift=2.331002331002331), OrderedStatistic(items_base=frozenset({' Male'}), items_add=frozenset({' Married-civ-spouse', ' Husband'}), confidence=0.6191860465116279, lift=1.4534883720930232), OrderedStatistic(items_base=frozenset({' Married-civ-spouse'}), items_add=frozenset({' Male', ' Husband'}), confidence=0.8819875776397516, lift=2.070393374741201), OrderedStatistic(items_base=frozenset({' Male', ' Husband'}), items_add=frozenset({' Married-civ-spouse'}), confidence=1.0, lift=2.070393374741201), OrderedStatistic(items_base=frozenset({' Married-civ-spouse', ' Husband'}), items_add=frozenset({' Male'}), confidence=1.0, lift=1.4534883720930234), OrderedStatistic(items_base=frozenset({' Married-civ-spouse', ' Male'}), items_add=frozenset({' Husband'}), confidence=0.993006993006993, lift=2.331002331002331)]),\n",
              " RelationRecord(items=frozenset({' Male', ' Husband', ' United-States'}), support=0.382, ordered_statistics=[OrderedStatistic(items_base=frozenset(), items_add=frozenset({' Male', ' Husband', ' United-States'}), confidence=0.382, lift=1.0), OrderedStatistic(items_base=frozenset({' Husband'}), items_add=frozenset({' Male', ' United-States'}), confidence=0.8967136150234742, lift=1.4604456270740622), OrderedStatistic(items_base=frozenset({' Male'}), items_add=frozenset({' Husband', ' United-States'}), confidence=0.555232558139535, lift=1.4534883720930234), OrderedStatistic(items_base=frozenset({' United-States'}), items_add=frozenset({' Male', ' Husband'}), confidence=0.4263392857142857, lift=1.0007964453386988), OrderedStatistic(items_base=frozenset({' Male', ' Husband'}), items_add=frozenset({' United-States'}), confidence=0.8967136150234742, lift=1.0007964453386988), OrderedStatistic(items_base=frozenset({' Husband', ' United-States'}), items_add=frozenset({' Male'}), confidence=1.0, lift=1.4534883720930234), OrderedStatistic(items_base=frozenset({' Male', ' United-States'}), items_add=frozenset({' Husband'}), confidence=0.6221498371335505, lift=1.4604456270740624)]),\n",
              " RelationRecord(items=frozenset({' Married-civ-spouse', ' Husband', ' United-States'}), support=0.382, ordered_statistics=[OrderedStatistic(items_base=frozenset(), items_add=frozenset({' Married-civ-spouse', ' Husband', ' United-States'}), confidence=0.382, lift=1.0), OrderedStatistic(items_base=frozenset({' Husband'}), items_add=frozenset({' Married-civ-spouse', ' United-States'}), confidence=0.8967136150234742, lift=2.0853805000545913), OrderedStatistic(items_base=frozenset({' Married-civ-spouse'}), items_add=frozenset({' Husband', ' United-States'}), confidence=0.7908902691511388, lift=2.070393374741201), OrderedStatistic(items_base=frozenset({' United-States'}), items_add=frozenset({' Married-civ-spouse', ' Husband'}), confidence=0.4263392857142857, lift=1.0007964453386988), OrderedStatistic(items_base=frozenset({' Married-civ-spouse', ' Husband'}), items_add=frozenset({' United-States'}), confidence=0.8967136150234742, lift=1.0007964453386988), OrderedStatistic(items_base=frozenset({' Husband', ' United-States'}), items_add=frozenset({' Married-civ-spouse'}), confidence=1.0, lift=2.070393374741201), OrderedStatistic(items_base=frozenset({' Married-civ-spouse', ' United-States'}), items_add=frozenset({' Husband'}), confidence=0.8883720930232558, lift=2.0853805000545913)]),\n",
              " RelationRecord(items=frozenset({' Married-civ-spouse', ' Male', ' United-States'}), support=0.384, ordered_statistics=[OrderedStatistic(items_base=frozenset(), items_add=frozenset({' Married-civ-spouse', ' Male', ' United-States'}), confidence=0.384, lift=1.0), OrderedStatistic(items_base=frozenset({' Male'}), items_add=frozenset({' Married-civ-spouse', ' United-States'}), confidence=0.558139534883721, lift=1.297998918334235), OrderedStatistic(items_base=frozenset({' Married-civ-spouse'}), items_add=frozenset({' Male', ' United-States'}), confidence=0.7950310559006212, lift=1.2948388532583408), OrderedStatistic(items_base=frozenset({' United-States'}), items_add=frozenset({' Married-civ-spouse', ' Male'}), confidence=0.42857142857142855, lift=0.9990009990009989), OrderedStatistic(items_base=frozenset({' Married-civ-spouse', ' Male'}), items_add=frozenset({' United-States'}), confidence=0.8951048951048951, lift=0.999000999000999), OrderedStatistic(items_base=frozenset({' Male', ' United-States'}), items_add=frozenset({' Married-civ-spouse'}), confidence=0.6254071661237786, lift=1.2948388532583408), OrderedStatistic(items_base=frozenset({' Married-civ-spouse', ' United-States'}), items_add=frozenset({' Male'}), confidence=0.8930232558139535, lift=1.2979989183342349)]),\n",
              " RelationRecord(items=frozenset({' Private', ' Male', ' United-States'}), support=0.424, ordered_statistics=[OrderedStatistic(items_base=frozenset(), items_add=frozenset({' Private', ' Male', ' United-States'}), confidence=0.424, lift=1.0), OrderedStatistic(items_base=frozenset({' Male'}), items_add=frozenset({' Private', ' United-States'}), confidence=0.6162790697674418, lift=1.0152867706218152), OrderedStatistic(items_base=frozenset({' Private'}), items_add=frozenset({' Male', ' United-States'}), confidence=0.6171761280931586, lift=1.0051728470572616), OrderedStatistic(items_base=frozenset({' United-States'}), items_add=frozenset({' Private', ' Male'}), confidence=0.4732142857142857, lift=0.9797397219757468), OrderedStatistic(items_base=frozenset({' Private', ' Male'}), items_add=frozenset({' United-States'}), confidence=0.8778467908902692, lift=0.9797397219757469), OrderedStatistic(items_base=frozenset({' Male', ' United-States'}), items_add=frozenset({' Private'}), confidence=0.6905537459283387, lift=1.0051728470572616), OrderedStatistic(items_base=frozenset({' Private', ' United-States'}), items_add=frozenset({' Male'}), confidence=0.6985172981878089, lift=1.0152867706218154)]),\n",
              " RelationRecord(items=frozenset({' Married-civ-spouse', ' Male', ' Husband', ' United-States'}), support=0.382, ordered_statistics=[OrderedStatistic(items_base=frozenset(), items_add=frozenset({' Married-civ-spouse', ' Male', ' Husband', ' United-States'}), confidence=0.382, lift=1.0), OrderedStatistic(items_base=frozenset({' Husband'}), items_add=frozenset({' Married-civ-spouse', ' Male', ' United-States'}), confidence=0.8967136150234742, lift=2.3351917057902973), OrderedStatistic(items_base=frozenset({' Male'}), items_add=frozenset({' Married-civ-spouse', ' Husband', ' United-States'}), confidence=0.555232558139535, lift=1.4534883720930234), OrderedStatistic(items_base=frozenset({' Married-civ-spouse'}), items_add=frozenset({' Male', ' Husband', ' United-States'}), confidence=0.7908902691511388, lift=2.070393374741201), OrderedStatistic(items_base=frozenset({' United-States'}), items_add=frozenset({' Married-civ-spouse', ' Male', ' Husband'}), confidence=0.4263392857142857, lift=1.0007964453386988), OrderedStatistic(items_base=frozenset({' Male', ' Husband'}), items_add=frozenset({' Married-civ-spouse', ' United-States'}), confidence=0.8967136150234742, lift=2.0853805000545913), OrderedStatistic(items_base=frozenset({' Married-civ-spouse', ' Husband'}), items_add=frozenset({' Male', ' United-States'}), confidence=0.8967136150234742, lift=1.4604456270740622), OrderedStatistic(items_base=frozenset({' Husband', ' United-States'}), items_add=frozenset({' Married-civ-spouse', ' Male'}), confidence=1.0, lift=2.331002331002331), OrderedStatistic(items_base=frozenset({' Married-civ-spouse', ' Male'}), items_add=frozenset({' Husband', ' United-States'}), confidence=0.8904428904428905, lift=2.331002331002331), OrderedStatistic(items_base=frozenset({' Male', ' United-States'}), items_add=frozenset({' Married-civ-spouse', ' Husband'}), confidence=0.6221498371335505, lift=1.4604456270740624), OrderedStatistic(items_base=frozenset({' Married-civ-spouse', ' United-States'}), items_add=frozenset({' Male', ' Husband'}), confidence=0.8883720930232558, lift=2.0853805000545913), OrderedStatistic(items_base=frozenset({' Married-civ-spouse', ' Male', ' Husband'}), items_add=frozenset({' United-States'}), confidence=0.8967136150234742, lift=1.0007964453386988), OrderedStatistic(items_base=frozenset({' Male', ' Husband', ' United-States'}), items_add=frozenset({' Married-civ-spouse'}), confidence=1.0, lift=2.070393374741201), OrderedStatistic(items_base=frozenset({' Married-civ-spouse', ' Husband', ' United-States'}), items_add=frozenset({' Male'}), confidence=1.0, lift=1.4534883720930234), OrderedStatistic(items_base=frozenset({' Married-civ-spouse', ' Male', ' United-States'}), items_add=frozenset({' Husband'}), confidence=0.9947916666666666, lift=2.3351917057902973)])]"
            ]
          },
          "metadata": {
            "tags": []
          },
          "execution_count": 34
        }
      ]
    },
    {
      "cell_type": "code",
      "metadata": {
        "colab": {
          "base_uri": "https://localhost:8080/"
        },
        "id": "D6R1cJXNG4fX",
        "outputId": "21ede90a-aa35-47ad-a1ad-e78a701ad8af"
      },
      "source": [
        "resultados[12]"
      ],
      "execution_count": 35,
      "outputs": [
        {
          "output_type": "execute_result",
          "data": {
            "text/plain": [
              "RelationRecord(items=frozenset({' Private', ' <=50K'}), support=0.528, ordered_statistics=[OrderedStatistic(items_base=frozenset(), items_add=frozenset({' Private', ' <=50K'}), confidence=0.528, lift=1.0), OrderedStatistic(items_base=frozenset({' <=50K'}), items_add=frozenset({' Private'}), confidence=0.6929133858267716, lift=1.0086075485105845), OrderedStatistic(items_base=frozenset({' Private'}), items_add=frozenset({' <=50K'}), confidence=0.7685589519650655, lift=1.0086075485105848)])"
            ]
          },
          "metadata": {
            "tags": []
          },
          "execution_count": 35
        }
      ]
    },
    {
      "cell_type": "code",
      "metadata": {
        "id": "JhTdfh1oHMkS"
      },
      "source": [
        ""
      ],
      "execution_count": null,
      "outputs": []
    }
  ]
}